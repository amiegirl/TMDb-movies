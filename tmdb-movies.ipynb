{
 "cells": [
  {
   "cell_type": "markdown",
   "id": "753477ff",
   "metadata": {},
   "source": [
    "# TMDb movie data"
   ]
  },
  {
   "cell_type": "markdown",
   "id": "dffb325f",
   "metadata": {},
   "source": [
    "## Analysis by: Aminat Owodunni"
   ]
  },
  {
   "cell_type": "markdown",
   "id": "7067f75a",
   "metadata": {},
   "source": [
    "# Overview"
   ]
  },
  {
   "cell_type": "markdown",
   "id": "d18a2e6e",
   "metadata": {},
   "source": [
    "This data set contains information about 10,000 movies collected from The Movie Database (TMDb), including user ratings and revenue."
   ]
  },
  {
   "cell_type": "markdown",
   "id": "0a6166fa",
   "metadata": {},
   "source": [
    "# Aims and Objectives"
   ]
  },
  {
   "cell_type": "markdown",
   "id": "1f17694a",
   "metadata": {},
   "source": [
    "This project aims to investigate this dataset and answer some specific questions."
   ]
  },
  {
   "cell_type": "markdown",
   "id": "c8748ce1",
   "metadata": {},
   "source": [
    "## Research Questions"
   ]
  },
  {
   "cell_type": "markdown",
   "id": "7cd3efe1",
   "metadata": {},
   "source": [
    "1.\tWhat genres are the most frequent of all time?\n",
    "2.\tWhich genres/movies are the most popular of all time?\n",
    "3.\tWhat genres/movies are most popular in the nineties?\n",
    "4.\tWhat genres/movies are most popular in the millennium?\n",
    "5.\tWhich are the top-rated movies in the nineties?\n",
    "6.\tWhich are the top-rated movies in the millennium?\n",
    "7.\tWhich movie title had the highest budget?\n",
    "8.\tWhich movie title had the longest run time?\n",
    "9.\tWhich movie actors got the highest vote counts?\n",
    "10.\tHow is revenue trending over the period of time?\n",
    "11.\tHow runtime trends overtime?\n",
    "12.\tDo top ratings movies always generate big revenue?\n",
    "13.\tDo higher budget movies always generate big revenue?\n",
    "14.\tWhat movies generated big revenues?\n",
    "15.\tCan we provide a list of directors that generates big revenue?\n",
    "16.\tCan we provide a list of production company that generates big revenue?"
   ]
  },
  {
   "cell_type": "markdown",
   "id": "195f250e",
   "metadata": {},
   "source": [
    "## Importing required libraries"
   ]
  },
  {
   "cell_type": "code",
   "execution_count": 1,
   "id": "cc2c4d4b",
   "metadata": {},
   "outputs": [],
   "source": [
    "import pandas as pd\n",
    "import numpy as np\n",
    "import matplotlib.pyplot as plt\n",
    "%matplotlib inline"
   ]
  },
  {
   "cell_type": "markdown",
   "id": "f9fc485a",
   "metadata": {},
   "source": [
    "## Loading the dataset"
   ]
  },
  {
   "cell_type": "code",
   "execution_count": 2,
   "id": "679db9f6",
   "metadata": {},
   "outputs": [
    {
     "data": {
      "text/html": [
       "<div>\n",
       "<style scoped>\n",
       "    .dataframe tbody tr th:only-of-type {\n",
       "        vertical-align: middle;\n",
       "    }\n",
       "\n",
       "    .dataframe tbody tr th {\n",
       "        vertical-align: top;\n",
       "    }\n",
       "\n",
       "    .dataframe thead th {\n",
       "        text-align: right;\n",
       "    }\n",
       "</style>\n",
       "<table border=\"1\" class=\"dataframe\">\n",
       "  <thead>\n",
       "    <tr style=\"text-align: right;\">\n",
       "      <th></th>\n",
       "      <th>id</th>\n",
       "      <th>imdb_id</th>\n",
       "      <th>popularity</th>\n",
       "      <th>budget</th>\n",
       "      <th>revenue</th>\n",
       "      <th>original_title</th>\n",
       "      <th>cast</th>\n",
       "      <th>homepage</th>\n",
       "      <th>director</th>\n",
       "      <th>tagline</th>\n",
       "      <th>...</th>\n",
       "      <th>overview</th>\n",
       "      <th>runtime</th>\n",
       "      <th>genres</th>\n",
       "      <th>production_companies</th>\n",
       "      <th>release_date</th>\n",
       "      <th>vote_count</th>\n",
       "      <th>vote_average</th>\n",
       "      <th>release_year</th>\n",
       "      <th>budget_adj</th>\n",
       "      <th>revenue_adj</th>\n",
       "    </tr>\n",
       "  </thead>\n",
       "  <tbody>\n",
       "    <tr>\n",
       "      <th>0</th>\n",
       "      <td>135397</td>\n",
       "      <td>tt0369610</td>\n",
       "      <td>32.985763</td>\n",
       "      <td>150000000</td>\n",
       "      <td>1513528810</td>\n",
       "      <td>Jurassic World</td>\n",
       "      <td>Chris Pratt|Bryce Dallas Howard|Irrfan Khan|Vi...</td>\n",
       "      <td>http://www.jurassicworld.com/</td>\n",
       "      <td>Colin Trevorrow</td>\n",
       "      <td>The park is open.</td>\n",
       "      <td>...</td>\n",
       "      <td>Twenty-two years after the events of Jurassic ...</td>\n",
       "      <td>124</td>\n",
       "      <td>Action|Adventure|Science Fiction|Thriller</td>\n",
       "      <td>Universal Studios|Amblin Entertainment|Legenda...</td>\n",
       "      <td>6/9/15</td>\n",
       "      <td>5562</td>\n",
       "      <td>6.5</td>\n",
       "      <td>2015</td>\n",
       "      <td>1.379999e+08</td>\n",
       "      <td>1.392446e+09</td>\n",
       "    </tr>\n",
       "    <tr>\n",
       "      <th>1</th>\n",
       "      <td>76341</td>\n",
       "      <td>tt1392190</td>\n",
       "      <td>28.419936</td>\n",
       "      <td>150000000</td>\n",
       "      <td>378436354</td>\n",
       "      <td>Mad Max: Fury Road</td>\n",
       "      <td>Tom Hardy|Charlize Theron|Hugh Keays-Byrne|Nic...</td>\n",
       "      <td>http://www.madmaxmovie.com/</td>\n",
       "      <td>George Miller</td>\n",
       "      <td>What a Lovely Day.</td>\n",
       "      <td>...</td>\n",
       "      <td>An apocalyptic story set in the furthest reach...</td>\n",
       "      <td>120</td>\n",
       "      <td>Action|Adventure|Science Fiction|Thriller</td>\n",
       "      <td>Village Roadshow Pictures|Kennedy Miller Produ...</td>\n",
       "      <td>5/13/15</td>\n",
       "      <td>6185</td>\n",
       "      <td>7.1</td>\n",
       "      <td>2015</td>\n",
       "      <td>1.379999e+08</td>\n",
       "      <td>3.481613e+08</td>\n",
       "    </tr>\n",
       "    <tr>\n",
       "      <th>2</th>\n",
       "      <td>262500</td>\n",
       "      <td>tt2908446</td>\n",
       "      <td>13.112507</td>\n",
       "      <td>110000000</td>\n",
       "      <td>295238201</td>\n",
       "      <td>Insurgent</td>\n",
       "      <td>Shailene Woodley|Theo James|Kate Winslet|Ansel...</td>\n",
       "      <td>http://www.thedivergentseries.movie/#insurgent</td>\n",
       "      <td>Robert Schwentke</td>\n",
       "      <td>One Choice Can Destroy You</td>\n",
       "      <td>...</td>\n",
       "      <td>Beatrice Prior must confront her inner demons ...</td>\n",
       "      <td>119</td>\n",
       "      <td>Adventure|Science Fiction|Thriller</td>\n",
       "      <td>Summit Entertainment|Mandeville Films|Red Wago...</td>\n",
       "      <td>3/18/15</td>\n",
       "      <td>2480</td>\n",
       "      <td>6.3</td>\n",
       "      <td>2015</td>\n",
       "      <td>1.012000e+08</td>\n",
       "      <td>2.716190e+08</td>\n",
       "    </tr>\n",
       "    <tr>\n",
       "      <th>3</th>\n",
       "      <td>140607</td>\n",
       "      <td>tt2488496</td>\n",
       "      <td>11.173104</td>\n",
       "      <td>200000000</td>\n",
       "      <td>2068178225</td>\n",
       "      <td>Star Wars: The Force Awakens</td>\n",
       "      <td>Harrison Ford|Mark Hamill|Carrie Fisher|Adam D...</td>\n",
       "      <td>http://www.starwars.com/films/star-wars-episod...</td>\n",
       "      <td>J.J. Abrams</td>\n",
       "      <td>Every generation has a story.</td>\n",
       "      <td>...</td>\n",
       "      <td>Thirty years after defeating the Galactic Empi...</td>\n",
       "      <td>136</td>\n",
       "      <td>Action|Adventure|Science Fiction|Fantasy</td>\n",
       "      <td>Lucasfilm|Truenorth Productions|Bad Robot</td>\n",
       "      <td>12/15/15</td>\n",
       "      <td>5292</td>\n",
       "      <td>7.5</td>\n",
       "      <td>2015</td>\n",
       "      <td>1.839999e+08</td>\n",
       "      <td>1.902723e+09</td>\n",
       "    </tr>\n",
       "    <tr>\n",
       "      <th>4</th>\n",
       "      <td>168259</td>\n",
       "      <td>tt2820852</td>\n",
       "      <td>9.335014</td>\n",
       "      <td>190000000</td>\n",
       "      <td>1506249360</td>\n",
       "      <td>Furious 7</td>\n",
       "      <td>Vin Diesel|Paul Walker|Jason Statham|Michelle ...</td>\n",
       "      <td>http://www.furious7.com/</td>\n",
       "      <td>James Wan</td>\n",
       "      <td>Vengeance Hits Home</td>\n",
       "      <td>...</td>\n",
       "      <td>Deckard Shaw seeks revenge against Dominic Tor...</td>\n",
       "      <td>137</td>\n",
       "      <td>Action|Crime|Thriller</td>\n",
       "      <td>Universal Pictures|Original Film|Media Rights ...</td>\n",
       "      <td>4/1/15</td>\n",
       "      <td>2947</td>\n",
       "      <td>7.3</td>\n",
       "      <td>2015</td>\n",
       "      <td>1.747999e+08</td>\n",
       "      <td>1.385749e+09</td>\n",
       "    </tr>\n",
       "  </tbody>\n",
       "</table>\n",
       "<p>5 rows × 21 columns</p>\n",
       "</div>"
      ],
      "text/plain": [
       "       id    imdb_id  popularity     budget     revenue  \\\n",
       "0  135397  tt0369610   32.985763  150000000  1513528810   \n",
       "1   76341  tt1392190   28.419936  150000000   378436354   \n",
       "2  262500  tt2908446   13.112507  110000000   295238201   \n",
       "3  140607  tt2488496   11.173104  200000000  2068178225   \n",
       "4  168259  tt2820852    9.335014  190000000  1506249360   \n",
       "\n",
       "                 original_title  \\\n",
       "0                Jurassic World   \n",
       "1            Mad Max: Fury Road   \n",
       "2                     Insurgent   \n",
       "3  Star Wars: The Force Awakens   \n",
       "4                     Furious 7   \n",
       "\n",
       "                                                cast  \\\n",
       "0  Chris Pratt|Bryce Dallas Howard|Irrfan Khan|Vi...   \n",
       "1  Tom Hardy|Charlize Theron|Hugh Keays-Byrne|Nic...   \n",
       "2  Shailene Woodley|Theo James|Kate Winslet|Ansel...   \n",
       "3  Harrison Ford|Mark Hamill|Carrie Fisher|Adam D...   \n",
       "4  Vin Diesel|Paul Walker|Jason Statham|Michelle ...   \n",
       "\n",
       "                                            homepage          director  \\\n",
       "0                      http://www.jurassicworld.com/   Colin Trevorrow   \n",
       "1                        http://www.madmaxmovie.com/     George Miller   \n",
       "2     http://www.thedivergentseries.movie/#insurgent  Robert Schwentke   \n",
       "3  http://www.starwars.com/films/star-wars-episod...       J.J. Abrams   \n",
       "4                           http://www.furious7.com/         James Wan   \n",
       "\n",
       "                         tagline  ...  \\\n",
       "0              The park is open.  ...   \n",
       "1             What a Lovely Day.  ...   \n",
       "2     One Choice Can Destroy You  ...   \n",
       "3  Every generation has a story.  ...   \n",
       "4            Vengeance Hits Home  ...   \n",
       "\n",
       "                                            overview runtime  \\\n",
       "0  Twenty-two years after the events of Jurassic ...     124   \n",
       "1  An apocalyptic story set in the furthest reach...     120   \n",
       "2  Beatrice Prior must confront her inner demons ...     119   \n",
       "3  Thirty years after defeating the Galactic Empi...     136   \n",
       "4  Deckard Shaw seeks revenge against Dominic Tor...     137   \n",
       "\n",
       "                                      genres  \\\n",
       "0  Action|Adventure|Science Fiction|Thriller   \n",
       "1  Action|Adventure|Science Fiction|Thriller   \n",
       "2         Adventure|Science Fiction|Thriller   \n",
       "3   Action|Adventure|Science Fiction|Fantasy   \n",
       "4                      Action|Crime|Thriller   \n",
       "\n",
       "                                production_companies release_date vote_count  \\\n",
       "0  Universal Studios|Amblin Entertainment|Legenda...       6/9/15       5562   \n",
       "1  Village Roadshow Pictures|Kennedy Miller Produ...      5/13/15       6185   \n",
       "2  Summit Entertainment|Mandeville Films|Red Wago...      3/18/15       2480   \n",
       "3          Lucasfilm|Truenorth Productions|Bad Robot     12/15/15       5292   \n",
       "4  Universal Pictures|Original Film|Media Rights ...       4/1/15       2947   \n",
       "\n",
       "   vote_average  release_year    budget_adj   revenue_adj  \n",
       "0           6.5          2015  1.379999e+08  1.392446e+09  \n",
       "1           7.1          2015  1.379999e+08  3.481613e+08  \n",
       "2           6.3          2015  1.012000e+08  2.716190e+08  \n",
       "3           7.5          2015  1.839999e+08  1.902723e+09  \n",
       "4           7.3          2015  1.747999e+08  1.385749e+09  \n",
       "\n",
       "[5 rows x 21 columns]"
      ]
     },
     "execution_count": 2,
     "metadata": {},
     "output_type": "execute_result"
    }
   ],
   "source": [
    "df = pd.read_csv('tmdb-movies.csv')\n",
    "df.head()"
   ]
  },
  {
   "cell_type": "code",
   "execution_count": 3,
   "id": "48092504",
   "metadata": {},
   "outputs": [
    {
     "name": "stdout",
     "output_type": "stream",
     "text": [
      "<class 'pandas.core.frame.DataFrame'>\n",
      "RangeIndex: 10866 entries, 0 to 10865\n",
      "Data columns (total 21 columns):\n",
      " #   Column                Non-Null Count  Dtype  \n",
      "---  ------                --------------  -----  \n",
      " 0   id                    10866 non-null  int64  \n",
      " 1   imdb_id               10856 non-null  object \n",
      " 2   popularity            10866 non-null  float64\n",
      " 3   budget                10866 non-null  int64  \n",
      " 4   revenue               10866 non-null  int64  \n",
      " 5   original_title        10866 non-null  object \n",
      " 6   cast                  10790 non-null  object \n",
      " 7   homepage              2936 non-null   object \n",
      " 8   director              10822 non-null  object \n",
      " 9   tagline               8042 non-null   object \n",
      " 10  keywords              9373 non-null   object \n",
      " 11  overview              10862 non-null  object \n",
      " 12  runtime               10866 non-null  int64  \n",
      " 13  genres                10843 non-null  object \n",
      " 14  production_companies  9836 non-null   object \n",
      " 15  release_date          10866 non-null  object \n",
      " 16  vote_count            10866 non-null  int64  \n",
      " 17  vote_average          10866 non-null  float64\n",
      " 18  release_year          10866 non-null  int64  \n",
      " 19  budget_adj            10866 non-null  float64\n",
      " 20  revenue_adj           10866 non-null  float64\n",
      "dtypes: float64(4), int64(6), object(11)\n",
      "memory usage: 1.7+ MB\n"
     ]
    }
   ],
   "source": [
    "#checking data info\n",
    "df.info()"
   ]
  },
  {
   "cell_type": "code",
   "execution_count": 4,
   "id": "fe13ff38",
   "metadata": {},
   "outputs": [
    {
     "data": {
      "text/plain": [
       "id                         0\n",
       "imdb_id                   10\n",
       "popularity                 0\n",
       "budget                     0\n",
       "revenue                    0\n",
       "original_title             0\n",
       "cast                      76\n",
       "homepage                7930\n",
       "director                  44\n",
       "tagline                 2824\n",
       "keywords                1493\n",
       "overview                   4\n",
       "runtime                    0\n",
       "genres                    23\n",
       "production_companies    1030\n",
       "release_date               0\n",
       "vote_count                 0\n",
       "vote_average               0\n",
       "release_year               0\n",
       "budget_adj                 0\n",
       "revenue_adj                0\n",
       "dtype: int64"
      ]
     },
     "execution_count": 4,
     "metadata": {},
     "output_type": "execute_result"
    }
   ],
   "source": [
    "#checking for null values\n",
    "df.isnull().sum()"
   ]
  },
  {
   "cell_type": "code",
   "execution_count": 5,
   "id": "4a3013eb",
   "metadata": {},
   "outputs": [
    {
     "data": {
      "text/plain": [
       "True"
      ]
     },
     "execution_count": 5,
     "metadata": {},
     "output_type": "execute_result"
    }
   ],
   "source": [
    "#checking for duplicates\n",
    "df.duplicated().any()"
   ]
  },
  {
   "cell_type": "code",
   "execution_count": 6,
   "id": "04624900",
   "metadata": {},
   "outputs": [
    {
     "data": {
      "text/plain": [
       "1"
      ]
     },
     "execution_count": 6,
     "metadata": {},
     "output_type": "execute_result"
    }
   ],
   "source": [
    "df.duplicated().sum()"
   ]
  },
  {
   "cell_type": "code",
   "execution_count": 7,
   "id": "d29c1735",
   "metadata": {},
   "outputs": [],
   "source": [
    "#dropping duplicates data\n",
    "df.drop_duplicates(inplace=True)"
   ]
  },
  {
   "cell_type": "code",
   "execution_count": 8,
   "id": "67eebadd",
   "metadata": {},
   "outputs": [
    {
     "data": {
      "text/plain": [
       "(10865, 21)"
      ]
     },
     "execution_count": 8,
     "metadata": {},
     "output_type": "execute_result"
    }
   ],
   "source": [
    "df.shape"
   ]
  },
  {
   "cell_type": "markdown",
   "id": "abba1901",
   "metadata": {},
   "source": [
    "# Exploratory Data Analysis (EDA)"
   ]
  },
  {
   "cell_type": "markdown",
   "id": "ef71ff11",
   "metadata": {},
   "source": [
    "**1. What genres are most frequent of all time?**"
   ]
  },
  {
   "cell_type": "code",
   "execution_count": 9,
   "id": "4eec6266",
   "metadata": {},
   "outputs": [
    {
     "data": {
      "text/plain": [
       "genres                            \n",
       "Comedy                                712\n",
       "Drama                                 712\n",
       "Documentary                           312\n",
       "Drama|Romance                         289\n",
       "Comedy|Drama                          280\n",
       "                                     ... \n",
       "Comedy|Romance|Music                    1\n",
       "Comedy|Romance|Horror                   1\n",
       "Comedy|Romance|Fantasy|Drama            1\n",
       "Comedy|Romance|Crime|Drama|Mystery      1\n",
       "Western|Thriller                        1\n",
       "Length: 2039, dtype: int64"
      ]
     },
     "execution_count": 9,
     "metadata": {},
     "output_type": "execute_result"
    }
   ],
   "source": [
    "# popular genres\n",
    "df[['genres','popularity']].value_counts(['genres'],ascending=False)"
   ]
  },
  {
   "cell_type": "markdown",
   "id": "bae63974",
   "metadata": {},
   "source": [
    "The most frequent genres were **comedy** and **Drama** with a count of **712**."
   ]
  },
  {
   "cell_type": "markdown",
   "id": "cc26709a",
   "metadata": {},
   "source": [
    "**2. What genres/movies are most popular of all time?**"
   ]
  },
  {
   "cell_type": "code",
   "execution_count": 10,
   "id": "a3ce0502",
   "metadata": {},
   "outputs": [
    {
     "data": {
      "text/html": [
       "<div>\n",
       "<style scoped>\n",
       "    .dataframe tbody tr th:only-of-type {\n",
       "        vertical-align: middle;\n",
       "    }\n",
       "\n",
       "    .dataframe tbody tr th {\n",
       "        vertical-align: top;\n",
       "    }\n",
       "\n",
       "    .dataframe thead th {\n",
       "        text-align: right;\n",
       "    }\n",
       "</style>\n",
       "<table border=\"1\" class=\"dataframe\">\n",
       "  <thead>\n",
       "    <tr style=\"text-align: right;\">\n",
       "      <th></th>\n",
       "      <th>release_year</th>\n",
       "      <th>original_title</th>\n",
       "      <th>genres</th>\n",
       "      <th>popularity</th>\n",
       "    </tr>\n",
       "  </thead>\n",
       "  <tbody>\n",
       "    <tr>\n",
       "      <th>0</th>\n",
       "      <td>2015</td>\n",
       "      <td>Jurassic World</td>\n",
       "      <td>Action|Adventure|Science Fiction|Thriller</td>\n",
       "      <td>32.985763</td>\n",
       "    </tr>\n",
       "    <tr>\n",
       "      <th>1</th>\n",
       "      <td>2015</td>\n",
       "      <td>Mad Max: Fury Road</td>\n",
       "      <td>Action|Adventure|Science Fiction|Thriller</td>\n",
       "      <td>28.419936</td>\n",
       "    </tr>\n",
       "    <tr>\n",
       "      <th>629</th>\n",
       "      <td>2014</td>\n",
       "      <td>Interstellar</td>\n",
       "      <td>Adventure|Drama|Science Fiction</td>\n",
       "      <td>24.949134</td>\n",
       "    </tr>\n",
       "    <tr>\n",
       "      <th>630</th>\n",
       "      <td>2014</td>\n",
       "      <td>Guardians of the Galaxy</td>\n",
       "      <td>Action|Science Fiction|Adventure</td>\n",
       "      <td>14.311205</td>\n",
       "    </tr>\n",
       "    <tr>\n",
       "      <th>2</th>\n",
       "      <td>2015</td>\n",
       "      <td>Insurgent</td>\n",
       "      <td>Adventure|Science Fiction|Thriller</td>\n",
       "      <td>13.112507</td>\n",
       "    </tr>\n",
       "    <tr>\n",
       "      <th>...</th>\n",
       "      <td>...</td>\n",
       "      <td>...</td>\n",
       "      <td>...</td>\n",
       "      <td>...</td>\n",
       "    </tr>\n",
       "    <tr>\n",
       "      <th>6961</th>\n",
       "      <td>2006</td>\n",
       "      <td>Khosla Ka Ghosla!</td>\n",
       "      <td>Comedy</td>\n",
       "      <td>0.001115</td>\n",
       "    </tr>\n",
       "    <tr>\n",
       "      <th>6551</th>\n",
       "      <td>2005</td>\n",
       "      <td>Mon petit doigt m'a dit...</td>\n",
       "      <td>Comedy|Mystery</td>\n",
       "      <td>0.000973</td>\n",
       "    </tr>\n",
       "    <tr>\n",
       "      <th>6080</th>\n",
       "      <td>2013</td>\n",
       "      <td>G.B.F.</td>\n",
       "      <td>Comedy</td>\n",
       "      <td>0.000620</td>\n",
       "    </tr>\n",
       "    <tr>\n",
       "      <th>9977</th>\n",
       "      <td>1971</td>\n",
       "      <td>The Hospital</td>\n",
       "      <td>Mystery|Comedy|Drama</td>\n",
       "      <td>0.000188</td>\n",
       "    </tr>\n",
       "    <tr>\n",
       "      <th>6181</th>\n",
       "      <td>1985</td>\n",
       "      <td>North and South, Book I</td>\n",
       "      <td>Drama|History|Western</td>\n",
       "      <td>0.000065</td>\n",
       "    </tr>\n",
       "  </tbody>\n",
       "</table>\n",
       "<p>10865 rows × 4 columns</p>\n",
       "</div>"
      ],
      "text/plain": [
       "      release_year              original_title  \\\n",
       "0             2015              Jurassic World   \n",
       "1             2015          Mad Max: Fury Road   \n",
       "629           2014                Interstellar   \n",
       "630           2014     Guardians of the Galaxy   \n",
       "2             2015                   Insurgent   \n",
       "...            ...                         ...   \n",
       "6961          2006           Khosla Ka Ghosla!   \n",
       "6551          2005  Mon petit doigt m'a dit...   \n",
       "6080          2013                      G.B.F.   \n",
       "9977          1971                The Hospital   \n",
       "6181          1985     North and South, Book I   \n",
       "\n",
       "                                         genres  popularity  \n",
       "0     Action|Adventure|Science Fiction|Thriller   32.985763  \n",
       "1     Action|Adventure|Science Fiction|Thriller   28.419936  \n",
       "629             Adventure|Drama|Science Fiction   24.949134  \n",
       "630            Action|Science Fiction|Adventure   14.311205  \n",
       "2            Adventure|Science Fiction|Thriller   13.112507  \n",
       "...                                         ...         ...  \n",
       "6961                                     Comedy    0.001115  \n",
       "6551                             Comedy|Mystery    0.000973  \n",
       "6080                                     Comedy    0.000620  \n",
       "9977                       Mystery|Comedy|Drama    0.000188  \n",
       "6181                      Drama|History|Western    0.000065  \n",
       "\n",
       "[10865 rows x 4 columns]"
      ]
     },
     "execution_count": 10,
     "metadata": {},
     "output_type": "execute_result"
    }
   ],
   "source": [
    "# popular genres\n",
    "df[['release_year','original_title','genres','popularity']].sort_values(['popularity'],ascending=False)"
   ]
  },
  {
   "cell_type": "markdown",
   "id": "55d0267a",
   "metadata": {},
   "source": [
    "The popular genres all the time are **Action|Adventure|Science Fiction|Thriller** movies. \\ **Jurassic world** was the most popular with a score of **32.985763**."
   ]
  },
  {
   "cell_type": "markdown",
   "id": "4ac313fc",
   "metadata": {},
   "source": [
    "**3. What genres/movies that are most popular in the nineties**?"
   ]
  },
  {
   "cell_type": "code",
   "execution_count": 11,
   "id": "b0c9c55a",
   "metadata": {},
   "outputs": [
    {
     "data": {
      "text/html": [
       "<div>\n",
       "<style scoped>\n",
       "    .dataframe tbody tr th:only-of-type {\n",
       "        vertical-align: middle;\n",
       "    }\n",
       "\n",
       "    .dataframe tbody tr th {\n",
       "        vertical-align: top;\n",
       "    }\n",
       "\n",
       "    .dataframe thead th {\n",
       "        text-align: right;\n",
       "    }\n",
       "</style>\n",
       "<table border=\"1\" class=\"dataframe\">\n",
       "  <thead>\n",
       "    <tr style=\"text-align: right;\">\n",
       "      <th></th>\n",
       "      <th>release_year</th>\n",
       "      <th>original_title</th>\n",
       "      <th>genres</th>\n",
       "      <th>popularity</th>\n",
       "    </tr>\n",
       "  </thead>\n",
       "  <tbody>\n",
       "    <tr>\n",
       "      <th>1329</th>\n",
       "      <td>1977</td>\n",
       "      <td>Star Wars</td>\n",
       "      <td>Adventure|Action|Science Fiction</td>\n",
       "      <td>12.037933</td>\n",
       "    </tr>\n",
       "    <tr>\n",
       "      <th>2409</th>\n",
       "      <td>1999</td>\n",
       "      <td>Fight Club</td>\n",
       "      <td>Drama</td>\n",
       "      <td>8.947905</td>\n",
       "    </tr>\n",
       "    <tr>\n",
       "      <th>4177</th>\n",
       "      <td>1994</td>\n",
       "      <td>Pulp Fiction</td>\n",
       "      <td>Thriller|Crime</td>\n",
       "      <td>8.093754</td>\n",
       "    </tr>\n",
       "    <tr>\n",
       "      <th>2410</th>\n",
       "      <td>1999</td>\n",
       "      <td>The Matrix</td>\n",
       "      <td>Action|Science Fiction</td>\n",
       "      <td>7.753899</td>\n",
       "    </tr>\n",
       "    <tr>\n",
       "      <th>4178</th>\n",
       "      <td>1994</td>\n",
       "      <td>The Shawshank Redemption</td>\n",
       "      <td>Drama|Crime</td>\n",
       "      <td>7.192039</td>\n",
       "    </tr>\n",
       "    <tr>\n",
       "      <th>4179</th>\n",
       "      <td>1994</td>\n",
       "      <td>Forrest Gump</td>\n",
       "      <td>Comedy|Drama|Romance</td>\n",
       "      <td>6.715966</td>\n",
       "    </tr>\n",
       "    <tr>\n",
       "      <th>5230</th>\n",
       "      <td>1997</td>\n",
       "      <td>Eddie Izzard: Glorious</td>\n",
       "      <td>Comedy</td>\n",
       "      <td>6.668990</td>\n",
       "    </tr>\n",
       "    <tr>\n",
       "      <th>6081</th>\n",
       "      <td>1985</td>\n",
       "      <td>Back to the Future</td>\n",
       "      <td>Adventure|Comedy|Science Fiction|Family</td>\n",
       "      <td>6.095293</td>\n",
       "    </tr>\n",
       "    <tr>\n",
       "      <th>7269</th>\n",
       "      <td>1972</td>\n",
       "      <td>The Godfather</td>\n",
       "      <td>Drama|Crime</td>\n",
       "      <td>5.738034</td>\n",
       "    </tr>\n",
       "    <tr>\n",
       "      <th>7309</th>\n",
       "      <td>1980</td>\n",
       "      <td>The Empire Strikes Back</td>\n",
       "      <td>Adventure|Action|Science Fiction</td>\n",
       "      <td>5.488441</td>\n",
       "    </tr>\n",
       "    <tr>\n",
       "      <th>7825</th>\n",
       "      <td>1979</td>\n",
       "      <td>Alien</td>\n",
       "      <td>Horror|Action|Thriller|Science Fiction</td>\n",
       "      <td>4.935897</td>\n",
       "    </tr>\n",
       "    <tr>\n",
       "      <th>7882</th>\n",
       "      <td>1984</td>\n",
       "      <td>The Terminator</td>\n",
       "      <td>Action|Thriller|Science Fiction</td>\n",
       "      <td>4.831966</td>\n",
       "    </tr>\n",
       "    <tr>\n",
       "      <th>7987</th>\n",
       "      <td>1983</td>\n",
       "      <td>Return of the Jedi</td>\n",
       "      <td>Adventure|Action|Science Fiction</td>\n",
       "      <td>4.828854</td>\n",
       "    </tr>\n",
       "    <tr>\n",
       "      <th>4180</th>\n",
       "      <td>1994</td>\n",
       "      <td>The Lion King</td>\n",
       "      <td>Family|Animation|Drama</td>\n",
       "      <td>4.782688</td>\n",
       "    </tr>\n",
       "    <tr>\n",
       "      <th>8067</th>\n",
       "      <td>1995</td>\n",
       "      <td>Se7en</td>\n",
       "      <td>Crime|Mystery|Thriller</td>\n",
       "      <td>4.765359</td>\n",
       "    </tr>\n",
       "    <tr>\n",
       "      <th>8242</th>\n",
       "      <td>1992</td>\n",
       "      <td>Reservoir Dogs</td>\n",
       "      <td>Crime|Thriller</td>\n",
       "      <td>4.586426</td>\n",
       "    </tr>\n",
       "    <tr>\n",
       "      <th>8375</th>\n",
       "      <td>1981</td>\n",
       "      <td>Raiders of the Lost Ark</td>\n",
       "      <td>Adventure|Action</td>\n",
       "      <td>4.578300</td>\n",
       "    </tr>\n",
       "    <tr>\n",
       "      <th>8457</th>\n",
       "      <td>1996</td>\n",
       "      <td>Independence Day</td>\n",
       "      <td>Action|Adventure|Science Fiction</td>\n",
       "      <td>4.480733</td>\n",
       "    </tr>\n",
       "    <tr>\n",
       "      <th>5231</th>\n",
       "      <td>1997</td>\n",
       "      <td>Titanic</td>\n",
       "      <td>Drama|Romance|Thriller</td>\n",
       "      <td>4.355219</td>\n",
       "    </tr>\n",
       "    <tr>\n",
       "      <th>8068</th>\n",
       "      <td>1995</td>\n",
       "      <td>Toy Story</td>\n",
       "      <td>Animation|Comedy|Family</td>\n",
       "      <td>4.282462</td>\n",
       "    </tr>\n",
       "  </tbody>\n",
       "</table>\n",
       "</div>"
      ],
      "text/plain": [
       "      release_year            original_title  \\\n",
       "1329          1977                 Star Wars   \n",
       "2409          1999                Fight Club   \n",
       "4177          1994              Pulp Fiction   \n",
       "2410          1999                The Matrix   \n",
       "4178          1994  The Shawshank Redemption   \n",
       "4179          1994              Forrest Gump   \n",
       "5230          1997    Eddie Izzard: Glorious   \n",
       "6081          1985        Back to the Future   \n",
       "7269          1972             The Godfather   \n",
       "7309          1980   The Empire Strikes Back   \n",
       "7825          1979                     Alien   \n",
       "7882          1984            The Terminator   \n",
       "7987          1983        Return of the Jedi   \n",
       "4180          1994             The Lion King   \n",
       "8067          1995                     Se7en   \n",
       "8242          1992            Reservoir Dogs   \n",
       "8375          1981   Raiders of the Lost Ark   \n",
       "8457          1996          Independence Day   \n",
       "5231          1997                   Titanic   \n",
       "8068          1995                 Toy Story   \n",
       "\n",
       "                                       genres  popularity  \n",
       "1329         Adventure|Action|Science Fiction   12.037933  \n",
       "2409                                    Drama    8.947905  \n",
       "4177                           Thriller|Crime    8.093754  \n",
       "2410                   Action|Science Fiction    7.753899  \n",
       "4178                              Drama|Crime    7.192039  \n",
       "4179                     Comedy|Drama|Romance    6.715966  \n",
       "5230                                   Comedy    6.668990  \n",
       "6081  Adventure|Comedy|Science Fiction|Family    6.095293  \n",
       "7269                              Drama|Crime    5.738034  \n",
       "7309         Adventure|Action|Science Fiction    5.488441  \n",
       "7825   Horror|Action|Thriller|Science Fiction    4.935897  \n",
       "7882          Action|Thriller|Science Fiction    4.831966  \n",
       "7987         Adventure|Action|Science Fiction    4.828854  \n",
       "4180                   Family|Animation|Drama    4.782688  \n",
       "8067                   Crime|Mystery|Thriller    4.765359  \n",
       "8242                           Crime|Thriller    4.586426  \n",
       "8375                         Adventure|Action    4.578300  \n",
       "8457         Action|Adventure|Science Fiction    4.480733  \n",
       "5231                   Drama|Romance|Thriller    4.355219  \n",
       "8068                  Animation|Comedy|Family    4.282462  "
      ]
     },
     "execution_count": 11,
     "metadata": {},
     "output_type": "execute_result"
    }
   ],
   "source": [
    "#Top 20 polular genres/movies in the nineties\n",
    "df_19gm = df[df['release_year']<=1999]\n",
    "df_19gm[['release_year','original_title','genres','popularity']].sort_values(['popularity'],ascending=False).head(20)"
   ]
  },
  {
   "cell_type": "code",
   "execution_count": 12,
   "id": "56d17d5b",
   "metadata": {},
   "outputs": [
    {
     "data": {
      "text/plain": [
       "<AxesSubplot:title={'center':'Popularity Score of Top 20 movies in the nineties'}, xlabel='original_title'>"
      ]
     },
     "execution_count": 12,
     "metadata": {},
     "output_type": "execute_result"
    },
    {
     "data": {
      "image/png": "[encoded data removed]",
      "text/plain": [
       "<Figure size 720x576 with 1 Axes>"
      ]
     },
     "metadata": {
      "needs_background": "light"
     },
     "output_type": "display_data"
    }
   ],
   "source": [
    "#Chart of Top 20 polular genres/movies in the nineties\n",
    "df_19gm = df[df['release_year']<=1999]\n",
    "df_19gm[['release_year','original_title','genres','popularity']].sort_values(['popularity'],ascending=False).head(20).plot(x='original_title', y='popularity', kind='bar', title = 'Popularity Score of Top 20 movies in the nineties', figsize=(10,8))"
   ]
  },
  {
   "cell_type": "markdown",
   "id": "f26aa12a",
   "metadata": {},
   "source": [
    "The most popular genres are in the nineties are; **Action|Adventure|Science Fiction movies.** \\ **Star Wars**, a movie, released in **1977** was the most popular with a score of **12.037933**"
   ]
  },
  {
   "cell_type": "markdown",
   "id": "be646ddb",
   "metadata": {},
   "source": [
    "**4. What genres/movies are most popular in the millennium?**"
   ]
  },
  {
   "cell_type": "code",
   "execution_count": 13,
   "id": "22fad6a1",
   "metadata": {},
   "outputs": [
    {
     "data": {
      "text/html": [
       "<div>\n",
       "<style scoped>\n",
       "    .dataframe tbody tr th:only-of-type {\n",
       "        vertical-align: middle;\n",
       "    }\n",
       "\n",
       "    .dataframe tbody tr th {\n",
       "        vertical-align: top;\n",
       "    }\n",
       "\n",
       "    .dataframe thead th {\n",
       "        text-align: right;\n",
       "    }\n",
       "</style>\n",
       "<table border=\"1\" class=\"dataframe\">\n",
       "  <thead>\n",
       "    <tr style=\"text-align: right;\">\n",
       "      <th></th>\n",
       "      <th>release_year</th>\n",
       "      <th>original_title</th>\n",
       "      <th>genres</th>\n",
       "      <th>popularity</th>\n",
       "    </tr>\n",
       "  </thead>\n",
       "  <tbody>\n",
       "    <tr>\n",
       "      <th>0</th>\n",
       "      <td>2015</td>\n",
       "      <td>Jurassic World</td>\n",
       "      <td>Action|Adventure|Science Fiction|Thriller</td>\n",
       "      <td>32.985763</td>\n",
       "    </tr>\n",
       "    <tr>\n",
       "      <th>1</th>\n",
       "      <td>2015</td>\n",
       "      <td>Mad Max: Fury Road</td>\n",
       "      <td>Action|Adventure|Science Fiction|Thriller</td>\n",
       "      <td>28.419936</td>\n",
       "    </tr>\n",
       "    <tr>\n",
       "      <th>629</th>\n",
       "      <td>2014</td>\n",
       "      <td>Interstellar</td>\n",
       "      <td>Adventure|Drama|Science Fiction</td>\n",
       "      <td>24.949134</td>\n",
       "    </tr>\n",
       "    <tr>\n",
       "      <th>630</th>\n",
       "      <td>2014</td>\n",
       "      <td>Guardians of the Galaxy</td>\n",
       "      <td>Action|Science Fiction|Adventure</td>\n",
       "      <td>14.311205</td>\n",
       "    </tr>\n",
       "    <tr>\n",
       "      <th>2</th>\n",
       "      <td>2015</td>\n",
       "      <td>Insurgent</td>\n",
       "      <td>Adventure|Science Fiction|Thriller</td>\n",
       "      <td>13.112507</td>\n",
       "    </tr>\n",
       "    <tr>\n",
       "      <th>631</th>\n",
       "      <td>2014</td>\n",
       "      <td>Captain America: The Winter Soldier</td>\n",
       "      <td>Action|Adventure|Science Fiction</td>\n",
       "      <td>12.971027</td>\n",
       "    </tr>\n",
       "    <tr>\n",
       "      <th>632</th>\n",
       "      <td>2014</td>\n",
       "      <td>John Wick</td>\n",
       "      <td>Action|Thriller</td>\n",
       "      <td>11.422751</td>\n",
       "    </tr>\n",
       "    <tr>\n",
       "      <th>3</th>\n",
       "      <td>2015</td>\n",
       "      <td>Star Wars: The Force Awakens</td>\n",
       "      <td>Action|Adventure|Science Fiction|Fantasy</td>\n",
       "      <td>11.173104</td>\n",
       "    </tr>\n",
       "    <tr>\n",
       "      <th>633</th>\n",
       "      <td>2014</td>\n",
       "      <td>The Hunger Games: Mockingjay - Part 1</td>\n",
       "      <td>Science Fiction|Adventure|Thriller</td>\n",
       "      <td>10.739009</td>\n",
       "    </tr>\n",
       "    <tr>\n",
       "      <th>634</th>\n",
       "      <td>2014</td>\n",
       "      <td>The Hobbit: The Battle of the Five Armies</td>\n",
       "      <td>Adventure|Fantasy</td>\n",
       "      <td>10.174599</td>\n",
       "    </tr>\n",
       "    <tr>\n",
       "      <th>1386</th>\n",
       "      <td>2009</td>\n",
       "      <td>Avatar</td>\n",
       "      <td>Action|Adventure|Fantasy|Science Fiction</td>\n",
       "      <td>9.432768</td>\n",
       "    </tr>\n",
       "    <tr>\n",
       "      <th>1919</th>\n",
       "      <td>2010</td>\n",
       "      <td>Inception</td>\n",
       "      <td>Action|Thriller|Science Fiction|Mystery|Adventure</td>\n",
       "      <td>9.363643</td>\n",
       "    </tr>\n",
       "    <tr>\n",
       "      <th>4</th>\n",
       "      <td>2015</td>\n",
       "      <td>Furious 7</td>\n",
       "      <td>Action|Crime|Thriller</td>\n",
       "      <td>9.335014</td>\n",
       "    </tr>\n",
       "    <tr>\n",
       "      <th>5</th>\n",
       "      <td>2015</td>\n",
       "      <td>The Revenant</td>\n",
       "      <td>Western|Drama|Adventure|Thriller</td>\n",
       "      <td>9.110700</td>\n",
       "    </tr>\n",
       "    <tr>\n",
       "      <th>635</th>\n",
       "      <td>2014</td>\n",
       "      <td>Big Hero 6</td>\n",
       "      <td>Adventure|Family|Animation|Action|Comedy</td>\n",
       "      <td>8.691294</td>\n",
       "    </tr>\n",
       "    <tr>\n",
       "      <th>6</th>\n",
       "      <td>2015</td>\n",
       "      <td>Terminator Genisys</td>\n",
       "      <td>Science Fiction|Action|Thriller|Adventure</td>\n",
       "      <td>8.654359</td>\n",
       "    </tr>\n",
       "    <tr>\n",
       "      <th>2633</th>\n",
       "      <td>2001</td>\n",
       "      <td>The Lord of the Rings: The Fellowship of the Ring</td>\n",
       "      <td>Adventure|Fantasy|Action</td>\n",
       "      <td>8.575419</td>\n",
       "    </tr>\n",
       "    <tr>\n",
       "      <th>2875</th>\n",
       "      <td>2008</td>\n",
       "      <td>The Dark Knight</td>\n",
       "      <td>Drama|Action|Crime|Thriller</td>\n",
       "      <td>8.466668</td>\n",
       "    </tr>\n",
       "    <tr>\n",
       "      <th>3371</th>\n",
       "      <td>2011</td>\n",
       "      <td>Underworld: Endless War</td>\n",
       "      <td>Action|Animation|Horror</td>\n",
       "      <td>8.411577</td>\n",
       "    </tr>\n",
       "    <tr>\n",
       "      <th>636</th>\n",
       "      <td>2014</td>\n",
       "      <td>The Imitation Game</td>\n",
       "      <td>History|Drama|Thriller|War</td>\n",
       "      <td>8.110711</td>\n",
       "    </tr>\n",
       "  </tbody>\n",
       "</table>\n",
       "</div>"
      ],
      "text/plain": [
       "      release_year                                     original_title  \\\n",
       "0             2015                                     Jurassic World   \n",
       "1             2015                                 Mad Max: Fury Road   \n",
       "629           2014                                       Interstellar   \n",
       "630           2014                            Guardians of the Galaxy   \n",
       "2             2015                                          Insurgent   \n",
       "631           2014                Captain America: The Winter Soldier   \n",
       "632           2014                                          John Wick   \n",
       "3             2015                       Star Wars: The Force Awakens   \n",
       "633           2014              The Hunger Games: Mockingjay - Part 1   \n",
       "634           2014          The Hobbit: The Battle of the Five Armies   \n",
       "1386          2009                                             Avatar   \n",
       "1919          2010                                          Inception   \n",
       "4             2015                                          Furious 7   \n",
       "5             2015                                       The Revenant   \n",
       "635           2014                                         Big Hero 6   \n",
       "6             2015                                 Terminator Genisys   \n",
       "2633          2001  The Lord of the Rings: The Fellowship of the Ring   \n",
       "2875          2008                                    The Dark Knight   \n",
       "3371          2011                            Underworld: Endless War   \n",
       "636           2014                                 The Imitation Game   \n",
       "\n",
       "                                                 genres  popularity  \n",
       "0             Action|Adventure|Science Fiction|Thriller   32.985763  \n",
       "1             Action|Adventure|Science Fiction|Thriller   28.419936  \n",
       "629                     Adventure|Drama|Science Fiction   24.949134  \n",
       "630                    Action|Science Fiction|Adventure   14.311205  \n",
       "2                    Adventure|Science Fiction|Thriller   13.112507  \n",
       "631                    Action|Adventure|Science Fiction   12.971027  \n",
       "632                                     Action|Thriller   11.422751  \n",
       "3              Action|Adventure|Science Fiction|Fantasy   11.173104  \n",
       "633                  Science Fiction|Adventure|Thriller   10.739009  \n",
       "634                                   Adventure|Fantasy   10.174599  \n",
       "1386           Action|Adventure|Fantasy|Science Fiction    9.432768  \n",
       "1919  Action|Thriller|Science Fiction|Mystery|Adventure    9.363643  \n",
       "4                                 Action|Crime|Thriller    9.335014  \n",
       "5                      Western|Drama|Adventure|Thriller    9.110700  \n",
       "635            Adventure|Family|Animation|Action|Comedy    8.691294  \n",
       "6             Science Fiction|Action|Thriller|Adventure    8.654359  \n",
       "2633                           Adventure|Fantasy|Action    8.575419  \n",
       "2875                        Drama|Action|Crime|Thriller    8.466668  \n",
       "3371                            Action|Animation|Horror    8.411577  \n",
       "636                          History|Drama|Thriller|War    8.110711  "
      ]
     },
     "execution_count": 13,
     "metadata": {},
     "output_type": "execute_result"
    }
   ],
   "source": [
    "# Top 20 polular genres/movies in the millineum\n",
    "df_20gm = df[df['release_year']>1999]\n",
    "df_20gm[['release_year','original_title','genres','popularity']].sort_values(['popularity'],ascending=False).head(20)"
   ]
  },
  {
   "cell_type": "code",
   "execution_count": 14,
   "id": "1e55eebf",
   "metadata": {},
   "outputs": [
    {
     "data": {
      "text/plain": [
       "<AxesSubplot:title={'center':'Popularity Score of Top 20 Movies in the Millennium'}, xlabel='original_title'>"
      ]
     },
     "execution_count": 14,
     "metadata": {},
     "output_type": "execute_result"
    },
    {
     "data": {
      "image/png": "[encoded data removed]",
      "text/plain": [
       "<Figure size 720x576 with 1 Axes>"
      ]
     },
     "metadata": {
      "needs_background": "light"
     },
     "output_type": "display_data"
    }
   ],
   "source": [
    "# Top 50 polular genres/movies in the millineum\n",
    "df_20gm = df[df['release_year']>1999]\n",
    "df_20gm[['release_year','original_title','genres','popularity']].sort_values(['popularity'],ascending=False).head(20).plot(x='original_title', y='popularity', kind='bar', title = 'Popularity Score of Top 20 Movies in the Millennium', figsize=(10,8))"
   ]
  },
  {
   "cell_type": "markdown",
   "id": "03f886d1",
   "metadata": {},
   "source": [
    "Top popular genres/movies in the millineum are: **Action|Adventure|Science Fiction|Thriller.**\\ **Jurassic world**, released in **2015** was the most popular with a score of **32.985763**"
   ]
  },
  {
   "cell_type": "markdown",
   "id": "89e76657",
   "metadata": {},
   "source": [
    "**5. Which are the top-rated movies in the nineties?**"
   ]
  },
  {
   "cell_type": "code",
   "execution_count": 15,
   "id": "84b7515f",
   "metadata": {},
   "outputs": [
    {
     "data": {
      "text/html": [
       "<div>\n",
       "<style scoped>\n",
       "    .dataframe tbody tr th:only-of-type {\n",
       "        vertical-align: middle;\n",
       "    }\n",
       "\n",
       "    .dataframe tbody tr th {\n",
       "        vertical-align: top;\n",
       "    }\n",
       "\n",
       "    .dataframe thead th {\n",
       "        text-align: right;\n",
       "    }\n",
       "</style>\n",
       "<table border=\"1\" class=\"dataframe\">\n",
       "  <thead>\n",
       "    <tr style=\"text-align: right;\">\n",
       "      <th></th>\n",
       "      <th>release_year</th>\n",
       "      <th>original_title</th>\n",
       "      <th>genres</th>\n",
       "      <th>vote_average</th>\n",
       "    </tr>\n",
       "  </thead>\n",
       "  <tbody>\n",
       "    <tr>\n",
       "      <th>8411</th>\n",
       "      <td>1981</td>\n",
       "      <td>Queen - Rock Montreal</td>\n",
       "      <td>Music</td>\n",
       "      <td>8.5</td>\n",
       "    </tr>\n",
       "    <tr>\n",
       "      <th>8221</th>\n",
       "      <td>1995</td>\n",
       "      <td>A Personal Journey with Martin Scorsese Throug...</td>\n",
       "      <td>Documentary</td>\n",
       "      <td>8.5</td>\n",
       "    </tr>\n",
       "    <tr>\n",
       "      <th>4178</th>\n",
       "      <td>1994</td>\n",
       "      <td>The Shawshank Redemption</td>\n",
       "      <td>Drama|Crime</td>\n",
       "      <td>8.4</td>\n",
       "    </tr>\n",
       "    <tr>\n",
       "      <th>7948</th>\n",
       "      <td>1984</td>\n",
       "      <td>Stop Making Sense</td>\n",
       "      <td>Documentary|Music</td>\n",
       "      <td>8.4</td>\n",
       "    </tr>\n",
       "    <tr>\n",
       "      <th>9290</th>\n",
       "      <td>1989</td>\n",
       "      <td>Depeche Mode: 101</td>\n",
       "      <td>Music</td>\n",
       "      <td>8.4</td>\n",
       "    </tr>\n",
       "    <tr>\n",
       "      <th>8370</th>\n",
       "      <td>1992</td>\n",
       "      <td>Bill Hicks: Relentless</td>\n",
       "      <td>Comedy</td>\n",
       "      <td>8.4</td>\n",
       "    </tr>\n",
       "    <tr>\n",
       "      <th>7269</th>\n",
       "      <td>1972</td>\n",
       "      <td>The Godfather</td>\n",
       "      <td>Drama|Crime</td>\n",
       "      <td>8.3</td>\n",
       "    </tr>\n",
       "    <tr>\n",
       "      <th>6176</th>\n",
       "      <td>1985</td>\n",
       "      <td>Shoah</td>\n",
       "      <td>Documentary</td>\n",
       "      <td>8.3</td>\n",
       "    </tr>\n",
       "    <tr>\n",
       "      <th>9315</th>\n",
       "      <td>1989</td>\n",
       "      <td>For All Mankind</td>\n",
       "      <td>Documentary</td>\n",
       "      <td>8.2</td>\n",
       "    </tr>\n",
       "    <tr>\n",
       "      <th>2409</th>\n",
       "      <td>1999</td>\n",
       "      <td>Fight Club</td>\n",
       "      <td>Drama</td>\n",
       "      <td>8.1</td>\n",
       "    </tr>\n",
       "    <tr>\n",
       "      <th>9758</th>\n",
       "      <td>1974</td>\n",
       "      <td>The Godfather: Part II</td>\n",
       "      <td>Drama|Crime</td>\n",
       "      <td>8.1</td>\n",
       "    </tr>\n",
       "    <tr>\n",
       "      <th>4179</th>\n",
       "      <td>1994</td>\n",
       "      <td>Forrest Gump</td>\n",
       "      <td>Comedy|Drama|Romance</td>\n",
       "      <td>8.1</td>\n",
       "    </tr>\n",
       "    <tr>\n",
       "      <th>8043</th>\n",
       "      <td>1983</td>\n",
       "      <td>Michael Jackson's Thriller</td>\n",
       "      <td>Horror|Music</td>\n",
       "      <td>8.1</td>\n",
       "    </tr>\n",
       "    <tr>\n",
       "      <th>10222</th>\n",
       "      <td>1993</td>\n",
       "      <td>Schindler's List</td>\n",
       "      <td>Drama|History|War</td>\n",
       "      <td>8.1</td>\n",
       "    </tr>\n",
       "    <tr>\n",
       "      <th>4177</th>\n",
       "      <td>1994</td>\n",
       "      <td>Pulp Fiction</td>\n",
       "      <td>Thriller|Crime</td>\n",
       "      <td>8.1</td>\n",
       "    </tr>\n",
       "    <tr>\n",
       "      <th>10141</th>\n",
       "      <td>1960</td>\n",
       "      <td>Psycho</td>\n",
       "      <td>Drama|Horror|Thriller</td>\n",
       "      <td>8.0</td>\n",
       "    </tr>\n",
       "    <tr>\n",
       "      <th>9979</th>\n",
       "      <td>1990</td>\n",
       "      <td>Goodfellas</td>\n",
       "      <td>Drama|Crime</td>\n",
       "      <td>8.0</td>\n",
       "    </tr>\n",
       "    <tr>\n",
       "      <th>7309</th>\n",
       "      <td>1980</td>\n",
       "      <td>The Empire Strikes Back</td>\n",
       "      <td>Adventure|Action|Science Fiction</td>\n",
       "      <td>8.0</td>\n",
       "    </tr>\n",
       "    <tr>\n",
       "      <th>10817</th>\n",
       "      <td>1978</td>\n",
       "      <td>The Last Waltz</td>\n",
       "      <td>Documentary|Music</td>\n",
       "      <td>8.0</td>\n",
       "    </tr>\n",
       "    <tr>\n",
       "      <th>8069</th>\n",
       "      <td>1995</td>\n",
       "      <td>The Usual Suspects</td>\n",
       "      <td>Drama|Crime|Thriller</td>\n",
       "      <td>8.0</td>\n",
       "    </tr>\n",
       "  </tbody>\n",
       "</table>\n",
       "</div>"
      ],
      "text/plain": [
       "       release_year                                     original_title  \\\n",
       "8411           1981                              Queen - Rock Montreal   \n",
       "8221           1995  A Personal Journey with Martin Scorsese Throug...   \n",
       "4178           1994                           The Shawshank Redemption   \n",
       "7948           1984                                  Stop Making Sense   \n",
       "9290           1989                                  Depeche Mode: 101   \n",
       "8370           1992                             Bill Hicks: Relentless   \n",
       "7269           1972                                      The Godfather   \n",
       "6176           1985                                              Shoah   \n",
       "9315           1989                                    For All Mankind   \n",
       "2409           1999                                         Fight Club   \n",
       "9758           1974                             The Godfather: Part II   \n",
       "4179           1994                                       Forrest Gump   \n",
       "8043           1983                         Michael Jackson's Thriller   \n",
       "10222          1993                                   Schindler's List   \n",
       "4177           1994                                       Pulp Fiction   \n",
       "10141          1960                                             Psycho   \n",
       "9979           1990                                         Goodfellas   \n",
       "7309           1980                            The Empire Strikes Back   \n",
       "10817          1978                                     The Last Waltz   \n",
       "8069           1995                                 The Usual Suspects   \n",
       "\n",
       "                                 genres  vote_average  \n",
       "8411                              Music           8.5  \n",
       "8221                        Documentary           8.5  \n",
       "4178                        Drama|Crime           8.4  \n",
       "7948                  Documentary|Music           8.4  \n",
       "9290                              Music           8.4  \n",
       "8370                             Comedy           8.4  \n",
       "7269                        Drama|Crime           8.3  \n",
       "6176                        Documentary           8.3  \n",
       "9315                        Documentary           8.2  \n",
       "2409                              Drama           8.1  \n",
       "9758                        Drama|Crime           8.1  \n",
       "4179               Comedy|Drama|Romance           8.1  \n",
       "8043                       Horror|Music           8.1  \n",
       "10222                 Drama|History|War           8.1  \n",
       "4177                     Thriller|Crime           8.1  \n",
       "10141             Drama|Horror|Thriller           8.0  \n",
       "9979                        Drama|Crime           8.0  \n",
       "7309   Adventure|Action|Science Fiction           8.0  \n",
       "10817                 Documentary|Music           8.0  \n",
       "8069               Drama|Crime|Thriller           8.0  "
      ]
     },
     "execution_count": 15,
     "metadata": {},
     "output_type": "execute_result"
    }
   ],
   "source": [
    "#Top 20 rated movies in the nineties\n",
    "df_19m_rt = df[df['release_year']<=1999]\n",
    "df_19m_rt[['release_year','original_title','genres','vote_average']].sort_values(['vote_average'],ascending=False).head(20)"
   ]
  },
  {
   "cell_type": "code",
   "execution_count": 16,
   "id": "eb1649b0",
   "metadata": {},
   "outputs": [
    {
     "data": {
      "text/plain": [
       "<AxesSubplot:title={'center':'Top 20 nineties Movies Average Rating'}, xlabel='original_title'>"
      ]
     },
     "execution_count": 16,
     "metadata": {},
     "output_type": "execute_result"
    },
    {
     "data": {
      "image/png": "[encoded data removed]",
      "text/plain": [
       "<Figure size 720x576 with 1 Axes>"
      ]
     },
     "metadata": {
      "needs_background": "light"
     },
     "output_type": "display_data"
    }
   ],
   "source": [
    "#Bar Chart of Top 20 rated movies in the nineties\n",
    "df_19Topm_rt = df_19m_rt[['original_title','vote_average']].sort_values(['vote_average'],ascending=False).head(20)\n",
    "df_19Topm_rt.plot(x='original_title', y='vote_average', kind='bar', title = 'Top 20 nineties Movies Average Rating', figsize=(10,8))"
   ]
  },
  {
   "cell_type": "markdown",
   "id": "c1990f78",
   "metadata": {},
   "source": [
    "Top rated genres in the nineties are movies of the category: **Documentary, Music, Drama, Crime**. The two most rated movies are; **Queen _ Rock Montreal released in 1981** and **A Personal Journey with Martin Scorsese** released in **1995** both with average rating of **8.5.**"
   ]
  },
  {
   "cell_type": "markdown",
   "id": "22755b56",
   "metadata": {},
   "source": [
    "**6. Which are the top-rated movies in the millennnium?**"
   ]
  },
  {
   "cell_type": "code",
   "execution_count": 17,
   "id": "f5754cf1",
   "metadata": {},
   "outputs": [
    {
     "data": {
      "text/html": [
       "<div>\n",
       "<style scoped>\n",
       "    .dataframe tbody tr th:only-of-type {\n",
       "        vertical-align: middle;\n",
       "    }\n",
       "\n",
       "    .dataframe tbody tr th {\n",
       "        vertical-align: top;\n",
       "    }\n",
       "\n",
       "    .dataframe thead th {\n",
       "        text-align: right;\n",
       "    }\n",
       "</style>\n",
       "<table border=\"1\" class=\"dataframe\">\n",
       "  <thead>\n",
       "    <tr style=\"text-align: right;\">\n",
       "      <th></th>\n",
       "      <th>release_year</th>\n",
       "      <th>original_title</th>\n",
       "      <th>genres</th>\n",
       "      <th>vote_average</th>\n",
       "    </tr>\n",
       "  </thead>\n",
       "  <tbody>\n",
       "    <tr>\n",
       "      <th>3894</th>\n",
       "      <td>2011</td>\n",
       "      <td>The Story of Film: An Odyssey</td>\n",
       "      <td>Documentary</td>\n",
       "      <td>9.2</td>\n",
       "    </tr>\n",
       "    <tr>\n",
       "      <th>538</th>\n",
       "      <td>2015</td>\n",
       "      <td>The Mask You Live In</td>\n",
       "      <td>Documentary</td>\n",
       "      <td>8.9</td>\n",
       "    </tr>\n",
       "    <tr>\n",
       "      <th>1200</th>\n",
       "      <td>2014</td>\n",
       "      <td>Black Mirror: White Christmas</td>\n",
       "      <td>Drama|Horror|Mystery|Science Fiction|Thriller</td>\n",
       "      <td>8.8</td>\n",
       "    </tr>\n",
       "    <tr>\n",
       "      <th>2269</th>\n",
       "      <td>2010</td>\n",
       "      <td>Life Cycles</td>\n",
       "      <td>Documentary</td>\n",
       "      <td>8.8</td>\n",
       "    </tr>\n",
       "    <tr>\n",
       "      <th>6911</th>\n",
       "      <td>2006</td>\n",
       "      <td>Pink Floyd: Pulse</td>\n",
       "      <td>Music</td>\n",
       "      <td>8.7</td>\n",
       "    </tr>\n",
       "    <tr>\n",
       "      <th>2401</th>\n",
       "      <td>2010</td>\n",
       "      <td>Opeth: In Live Concert At The Royal Albert Hall</td>\n",
       "      <td>Music</td>\n",
       "      <td>8.6</td>\n",
       "    </tr>\n",
       "    <tr>\n",
       "      <th>3690</th>\n",
       "      <td>2011</td>\n",
       "      <td>The Art of Flight</td>\n",
       "      <td>Adventure|Documentary</td>\n",
       "      <td>8.5</td>\n",
       "    </tr>\n",
       "    <tr>\n",
       "      <th>5830</th>\n",
       "      <td>2013</td>\n",
       "      <td>Doctor Who: The Time of the Doctor</td>\n",
       "      <td>NaN</td>\n",
       "      <td>8.5</td>\n",
       "    </tr>\n",
       "    <tr>\n",
       "      <th>8839</th>\n",
       "      <td>2000</td>\n",
       "      <td>Dave Chappelle: Killin' Them Softly</td>\n",
       "      <td>Comedy</td>\n",
       "      <td>8.5</td>\n",
       "    </tr>\n",
       "    <tr>\n",
       "      <th>3224</th>\n",
       "      <td>2008</td>\n",
       "      <td>John Mayer: Where the Light Is Live in Los Ang...</td>\n",
       "      <td>Music</td>\n",
       "      <td>8.5</td>\n",
       "    </tr>\n",
       "    <tr>\n",
       "      <th>2397</th>\n",
       "      <td>2010</td>\n",
       "      <td>The Making of The Walking Dead</td>\n",
       "      <td>Documentary</td>\n",
       "      <td>8.4</td>\n",
       "    </tr>\n",
       "    <tr>\n",
       "      <th>2334</th>\n",
       "      <td>2010</td>\n",
       "      <td>Rush: Beyond the Lighted Stage</td>\n",
       "      <td>Documentary|Music</td>\n",
       "      <td>8.4</td>\n",
       "    </tr>\n",
       "    <tr>\n",
       "      <th>5923</th>\n",
       "      <td>2013</td>\n",
       "      <td>Tropico</td>\n",
       "      <td>Music|Drama|Fantasy|Romance</td>\n",
       "      <td>8.4</td>\n",
       "    </tr>\n",
       "    <tr>\n",
       "      <th>3365</th>\n",
       "      <td>2008</td>\n",
       "      <td>Foo Fighters: Live at Wembley Stadium</td>\n",
       "      <td>Music</td>\n",
       "      <td>8.4</td>\n",
       "    </tr>\n",
       "    <tr>\n",
       "      <th>609</th>\n",
       "      <td>2015</td>\n",
       "      <td>The Jinx: The Life and Deaths of Robert Durst</td>\n",
       "      <td>Documentary</td>\n",
       "      <td>8.4</td>\n",
       "    </tr>\n",
       "    <tr>\n",
       "      <th>5986</th>\n",
       "      <td>2013</td>\n",
       "      <td>Guten Tag, RamÃ³n</td>\n",
       "      <td>Drama</td>\n",
       "      <td>8.4</td>\n",
       "    </tr>\n",
       "    <tr>\n",
       "      <th>3310</th>\n",
       "      <td>2008</td>\n",
       "      <td>Dear Zachary: A Letter to a Son About His Father</td>\n",
       "      <td>Crime|Documentary</td>\n",
       "      <td>8.3</td>\n",
       "    </tr>\n",
       "    <tr>\n",
       "      <th>4803</th>\n",
       "      <td>2012</td>\n",
       "      <td>One Direction: Up All Night - The Live Tour</td>\n",
       "      <td>Music|Documentary</td>\n",
       "      <td>8.3</td>\n",
       "    </tr>\n",
       "    <tr>\n",
       "      <th>4547</th>\n",
       "      <td>2012</td>\n",
       "      <td>London 2012 Olympic Opening Ceremony: Isles of...</td>\n",
       "      <td>NaN</td>\n",
       "      <td>8.3</td>\n",
       "    </tr>\n",
       "    <tr>\n",
       "      <th>4164</th>\n",
       "      <td>2002</td>\n",
       "      <td>The Century of the Self</td>\n",
       "      <td>Documentary</td>\n",
       "      <td>8.3</td>\n",
       "    </tr>\n",
       "  </tbody>\n",
       "</table>\n",
       "</div>"
      ],
      "text/plain": [
       "      release_year                                     original_title  \\\n",
       "3894          2011                      The Story of Film: An Odyssey   \n",
       "538           2015                               The Mask You Live In   \n",
       "1200          2014                      Black Mirror: White Christmas   \n",
       "2269          2010                                        Life Cycles   \n",
       "6911          2006                                  Pink Floyd: Pulse   \n",
       "2401          2010    Opeth: In Live Concert At The Royal Albert Hall   \n",
       "3690          2011                                  The Art of Flight   \n",
       "5830          2013                 Doctor Who: The Time of the Doctor   \n",
       "8839          2000                Dave Chappelle: Killin' Them Softly   \n",
       "3224          2008  John Mayer: Where the Light Is Live in Los Ang...   \n",
       "2397          2010                     The Making of The Walking Dead   \n",
       "2334          2010                     Rush: Beyond the Lighted Stage   \n",
       "5923          2013                                            Tropico   \n",
       "3365          2008              Foo Fighters: Live at Wembley Stadium   \n",
       "609           2015      The Jinx: The Life and Deaths of Robert Durst   \n",
       "5986          2013                                  Guten Tag, RamÃ³n   \n",
       "3310          2008   Dear Zachary: A Letter to a Son About His Father   \n",
       "4803          2012        One Direction: Up All Night - The Live Tour   \n",
       "4547          2012  London 2012 Olympic Opening Ceremony: Isles of...   \n",
       "4164          2002                            The Century of the Self   \n",
       "\n",
       "                                             genres  vote_average  \n",
       "3894                                    Documentary           9.2  \n",
       "538                                     Documentary           8.9  \n",
       "1200  Drama|Horror|Mystery|Science Fiction|Thriller           8.8  \n",
       "2269                                    Documentary           8.8  \n",
       "6911                                          Music           8.7  \n",
       "2401                                          Music           8.6  \n",
       "3690                          Adventure|Documentary           8.5  \n",
       "5830                                            NaN           8.5  \n",
       "8839                                         Comedy           8.5  \n",
       "3224                                          Music           8.5  \n",
       "2397                                    Documentary           8.4  \n",
       "2334                              Documentary|Music           8.4  \n",
       "5923                    Music|Drama|Fantasy|Romance           8.4  \n",
       "3365                                          Music           8.4  \n",
       "609                                     Documentary           8.4  \n",
       "5986                                          Drama           8.4  \n",
       "3310                              Crime|Documentary           8.3  \n",
       "4803                              Music|Documentary           8.3  \n",
       "4547                                            NaN           8.3  \n",
       "4164                                    Documentary           8.3  "
      ]
     },
     "execution_count": 17,
     "metadata": {},
     "output_type": "execute_result"
    }
   ],
   "source": [
    "#Top 20 rated movies in the millenium\n",
    "df_20m_rt = df[df['release_year']>1999]\n",
    "df_20m_rt[['release_year','original_title','genres','vote_average']].sort_values(['vote_average'],ascending=False).head(20)"
   ]
  },
  {
   "cell_type": "code",
   "execution_count": 18,
   "id": "3a744a95",
   "metadata": {},
   "outputs": [
    {
     "data": {
      "text/plain": [
       "<AxesSubplot:title={'center':' Top 20 Millennium Movies Average Rating'}, xlabel='original_title'>"
      ]
     },
     "execution_count": 18,
     "metadata": {},
     "output_type": "execute_result"
    },
    {
     "data": {
      "image/png": "[encoded data removed]",
      "text/plain": [
       "<Figure size 720x576 with 1 Axes>"
      ]
     },
     "metadata": {
      "needs_background": "light"
     },
     "output_type": "display_data"
    }
   ],
   "source": [
    "#Bar Chart of Top 20 rated movies in the milennium\n",
    "df_20Topm_rt = df_20m_rt[['original_title','vote_average']].sort_values(['vote_average'],ascending=False).head(20)\n",
    "df_20Topm_rt.plot(x='original_title', y='vote_average', kind='bar', title = ' Top 20 Millennium Movies Average Rating', figsize=(10,8))"
   ]
  },
  {
   "cell_type": "markdown",
   "id": "bbcc1e91",
   "metadata": {},
   "source": [
    "Top rated movies in the millennium are movies of category: **Drama, Horror, Mystery, Science Fiction, Thriller, Documentary**. The most rated movie of the millennium is **The Story of Film: An Odyssey** released in **2011** with an average rating of **9.2**"
   ]
  },
  {
   "cell_type": "markdown",
   "id": "c5be2af6",
   "metadata": {},
   "source": [
    "**7. Which movie title had the highest budget?**"
   ]
  },
  {
   "cell_type": "code",
   "execution_count": 19,
   "id": "4f8c9aef",
   "metadata": {},
   "outputs": [
    {
     "data": {
      "text/html": [
       "<div>\n",
       "<style scoped>\n",
       "    .dataframe tbody tr th:only-of-type {\n",
       "        vertical-align: middle;\n",
       "    }\n",
       "\n",
       "    .dataframe tbody tr th {\n",
       "        vertical-align: top;\n",
       "    }\n",
       "\n",
       "    .dataframe thead th {\n",
       "        text-align: right;\n",
       "    }\n",
       "</style>\n",
       "<table border=\"1\" class=\"dataframe\">\n",
       "  <thead>\n",
       "    <tr style=\"text-align: right;\">\n",
       "      <th></th>\n",
       "      <th>original_title</th>\n",
       "      <th>release_year</th>\n",
       "      <th>budget_adj</th>\n",
       "    </tr>\n",
       "  </thead>\n",
       "  <tbody>\n",
       "    <tr>\n",
       "      <th>2244</th>\n",
       "      <td>The Warrior's Way</td>\n",
       "      <td>2010</td>\n",
       "      <td>4.250000e+08</td>\n",
       "    </tr>\n",
       "    <tr>\n",
       "      <th>3375</th>\n",
       "      <td>Pirates of the Caribbean: On Stranger Tides</td>\n",
       "      <td>2011</td>\n",
       "      <td>3.683713e+08</td>\n",
       "    </tr>\n",
       "    <tr>\n",
       "      <th>7387</th>\n",
       "      <td>Pirates of the Caribbean: At World's End</td>\n",
       "      <td>2007</td>\n",
       "      <td>3.155006e+08</td>\n",
       "    </tr>\n",
       "    <tr>\n",
       "      <th>6570</th>\n",
       "      <td>Superman Returns</td>\n",
       "      <td>2006</td>\n",
       "      <td>2.920507e+08</td>\n",
       "    </tr>\n",
       "    <tr>\n",
       "      <th>5231</th>\n",
       "      <td>Titanic</td>\n",
       "      <td>1997</td>\n",
       "      <td>2.716921e+08</td>\n",
       "    </tr>\n",
       "  </tbody>\n",
       "</table>\n",
       "</div>"
      ],
      "text/plain": [
       "                                   original_title  release_year    budget_adj\n",
       "2244                            The Warrior's Way          2010  4.250000e+08\n",
       "3375  Pirates of the Caribbean: On Stranger Tides          2011  3.683713e+08\n",
       "7387     Pirates of the Caribbean: At World's End          2007  3.155006e+08\n",
       "6570                             Superman Returns          2006  2.920507e+08\n",
       "5231                                      Titanic          1997  2.716921e+08"
      ]
     },
     "execution_count": 19,
     "metadata": {},
     "output_type": "execute_result"
    }
   ],
   "source": [
    "# Movies with the highest budget\n",
    "df[['original_title','release_year','budget_adj']].sort_values(['budget_adj'],ascending=False).head()"
   ]
  },
  {
   "cell_type": "code",
   "execution_count": 20,
   "id": "6e66eccc",
   "metadata": {},
   "outputs": [
    {
     "data": {
      "text/plain": [
       "<AxesSubplot:title={'center':'Top High Budget Movies'}, xlabel='Movie title', ylabel='Budget_adj in Dollars'>"
      ]
     },
     "execution_count": 20,
     "metadata": {},
     "output_type": "execute_result"
    },
    {
     "data": {
      "image/png": "[encoded data removed]",
      "text/plain": [
       "<Figure size 576x432 with 1 Axes>"
      ]
     },
     "metadata": {
      "needs_background": "light"
     },
     "output_type": "display_data"
    }
   ],
   "source": [
    "# Barchart of Movies with the highest budget\n",
    "df[['original_title','release_year','budget_adj']].sort_values(['budget_adj'],ascending=False).head().plot(x='original_title', y='budget_adj', kind='bar', title = 'Top High Budget Movies', ylabel='Budget_adj in Dollars', xlabel='Movie title',figsize=(8,6))"
   ]
  },
  {
   "cell_type": "markdown",
   "id": "56ccdb16",
   "metadata": {},
   "source": [
    "**The Warrior's way**, released in **2010**, was the movie with the highest budget"
   ]
  },
  {
   "cell_type": "markdown",
   "id": "1a04748f",
   "metadata": {},
   "source": [
    "**8. Which movie title had the highest run time?**"
   ]
  },
  {
   "cell_type": "code",
   "execution_count": 21,
   "id": "56580cc1",
   "metadata": {},
   "outputs": [
    {
     "data": {
      "text/html": [
       "<div>\n",
       "<style scoped>\n",
       "    .dataframe tbody tr th:only-of-type {\n",
       "        vertical-align: middle;\n",
       "    }\n",
       "\n",
       "    .dataframe tbody tr th {\n",
       "        vertical-align: top;\n",
       "    }\n",
       "\n",
       "    .dataframe thead th {\n",
       "        text-align: right;\n",
       "    }\n",
       "</style>\n",
       "<table border=\"1\" class=\"dataframe\">\n",
       "  <thead>\n",
       "    <tr style=\"text-align: right;\">\n",
       "      <th></th>\n",
       "      <th>original_title</th>\n",
       "      <th>release_year</th>\n",
       "      <th>runtime</th>\n",
       "    </tr>\n",
       "  </thead>\n",
       "  <tbody>\n",
       "    <tr>\n",
       "      <th>3894</th>\n",
       "      <td>The Story of Film: An Odyssey</td>\n",
       "      <td>2011</td>\n",
       "      <td>900</td>\n",
       "    </tr>\n",
       "    <tr>\n",
       "      <th>4041</th>\n",
       "      <td>Taken</td>\n",
       "      <td>2002</td>\n",
       "      <td>877</td>\n",
       "    </tr>\n",
       "    <tr>\n",
       "      <th>2722</th>\n",
       "      <td>Band of Brothers</td>\n",
       "      <td>2001</td>\n",
       "      <td>705</td>\n",
       "    </tr>\n",
       "    <tr>\n",
       "      <th>6176</th>\n",
       "      <td>Shoah</td>\n",
       "      <td>1985</td>\n",
       "      <td>566</td>\n",
       "    </tr>\n",
       "    <tr>\n",
       "      <th>6181</th>\n",
       "      <td>North and South, Book I</td>\n",
       "      <td>1985</td>\n",
       "      <td>561</td>\n",
       "    </tr>\n",
       "  </tbody>\n",
       "</table>\n",
       "</div>"
      ],
      "text/plain": [
       "                     original_title  release_year  runtime\n",
       "3894  The Story of Film: An Odyssey          2011      900\n",
       "4041                          Taken          2002      877\n",
       "2722               Band of Brothers          2001      705\n",
       "6176                          Shoah          1985      566\n",
       "6181        North and South, Book I          1985      561"
      ]
     },
     "execution_count": 21,
     "metadata": {},
     "output_type": "execute_result"
    }
   ],
   "source": [
    "# Movies with the highest runtime\n",
    "df[['original_title','release_year','runtime']].sort_values(['runtime'],ascending=False).head()"
   ]
  },
  {
   "cell_type": "code",
   "execution_count": 22,
   "id": "2d48b574",
   "metadata": {},
   "outputs": [
    {
     "data": {
      "text/plain": [
       "<AxesSubplot:title={'center':'Top High Runtime Movies'}, xlabel='Movie title', ylabel='Runtime in minutes'>"
      ]
     },
     "execution_count": 22,
     "metadata": {},
     "output_type": "execute_result"
    },
    {
     "data": {
      "image/png": "[encoded data removed]",
      "text/plain": [
       "<Figure size 576x432 with 1 Axes>"
      ]
     },
     "metadata": {
      "needs_background": "light"
     },
     "output_type": "display_data"
    }
   ],
   "source": [
    "# Movies with the highest runtime\n",
    "df[['original_title','release_year','runtime']].sort_values(['runtime'],ascending=False).head().plot(x='original_title', y='runtime', kind='bar', title = 'Top High Runtime Movies', xlabel='Movie title', ylabel='Runtime in minutes',figsize=(8,6))"
   ]
  },
  {
   "cell_type": "markdown",
   "id": "f3be4ee6",
   "metadata": {},
   "source": [
    "**The Story of Film: An Odyssey** released in **2011** had the highest runtime."
   ]
  },
  {
   "cell_type": "markdown",
   "id": "b733caa7",
   "metadata": {},
   "source": [
    "**9.Which movie actors got the highest vote counts?**"
   ]
  },
  {
   "cell_type": "code",
   "execution_count": 23,
   "id": "b8bd21f5",
   "metadata": {},
   "outputs": [
    {
     "data": {
      "text/html": [
       "<div>\n",
       "<style scoped>\n",
       "    .dataframe tbody tr th:only-of-type {\n",
       "        vertical-align: middle;\n",
       "    }\n",
       "\n",
       "    .dataframe tbody tr th {\n",
       "        vertical-align: top;\n",
       "    }\n",
       "\n",
       "    .dataframe thead th {\n",
       "        text-align: right;\n",
       "    }\n",
       "</style>\n",
       "<table border=\"1\" class=\"dataframe\">\n",
       "  <thead>\n",
       "    <tr style=\"text-align: right;\">\n",
       "      <th></th>\n",
       "      <th>original_title</th>\n",
       "      <th>release_year</th>\n",
       "      <th>cast</th>\n",
       "      <th>vote_count</th>\n",
       "    </tr>\n",
       "  </thead>\n",
       "  <tbody>\n",
       "    <tr>\n",
       "      <th>1919</th>\n",
       "      <td>Inception</td>\n",
       "      <td>2010</td>\n",
       "      <td>Leonardo DiCaprio|Joseph Gordon-Levitt|Ellen P...</td>\n",
       "      <td>9767</td>\n",
       "    </tr>\n",
       "    <tr>\n",
       "      <th>4361</th>\n",
       "      <td>The Avengers</td>\n",
       "      <td>2012</td>\n",
       "      <td>Robert Downey Jr.|Chris Evans|Mark Ruffalo|Chr...</td>\n",
       "      <td>8903</td>\n",
       "    </tr>\n",
       "    <tr>\n",
       "      <th>1386</th>\n",
       "      <td>Avatar</td>\n",
       "      <td>2009</td>\n",
       "      <td>Sam Worthington|Zoe Saldana|Sigourney Weaver|S...</td>\n",
       "      <td>8458</td>\n",
       "    </tr>\n",
       "    <tr>\n",
       "      <th>2875</th>\n",
       "      <td>The Dark Knight</td>\n",
       "      <td>2008</td>\n",
       "      <td>Christian Bale|Michael Caine|Heath Ledger|Aaro...</td>\n",
       "      <td>8432</td>\n",
       "    </tr>\n",
       "    <tr>\n",
       "      <th>4364</th>\n",
       "      <td>Django Unchained</td>\n",
       "      <td>2012</td>\n",
       "      <td>Jamie Foxx|Christoph Waltz|Leonardo DiCaprio|K...</td>\n",
       "      <td>7375</td>\n",
       "    </tr>\n",
       "  </tbody>\n",
       "</table>\n",
       "</div>"
      ],
      "text/plain": [
       "        original_title  release_year  \\\n",
       "1919         Inception          2010   \n",
       "4361      The Avengers          2012   \n",
       "1386            Avatar          2009   \n",
       "2875   The Dark Knight          2008   \n",
       "4364  Django Unchained          2012   \n",
       "\n",
       "                                                   cast  vote_count  \n",
       "1919  Leonardo DiCaprio|Joseph Gordon-Levitt|Ellen P...        9767  \n",
       "4361  Robert Downey Jr.|Chris Evans|Mark Ruffalo|Chr...        8903  \n",
       "1386  Sam Worthington|Zoe Saldana|Sigourney Weaver|S...        8458  \n",
       "2875  Christian Bale|Michael Caine|Heath Ledger|Aaro...        8432  \n",
       "4364  Jamie Foxx|Christoph Waltz|Leonardo DiCaprio|K...        7375  "
      ]
     },
     "execution_count": 23,
     "metadata": {},
     "output_type": "execute_result"
    }
   ],
   "source": [
    "# Movie actors with the highest vote counts\n",
    "df_hmov_act= df[['original_title','release_year','cast', 'vote_count']].sort_values(['vote_count'],ascending=False).head()\n",
    "df_hmov_act"
   ]
  },
  {
   "cell_type": "code",
   "execution_count": 24,
   "id": "be6c32b2",
   "metadata": {},
   "outputs": [
    {
     "data": {
      "text/plain": [
       "<AxesSubplot:title={'center':'Movie actors with highest vote counts'}, xlabel='Actors', ylabel='Vote counts'>"
      ]
     },
     "execution_count": 24,
     "metadata": {},
     "output_type": "execute_result"
    },
    {
     "data": {
      "image/png": "[encoded data removed]",
      "text/plain": [
       "<Figure size 576x432 with 1 Axes>"
      ]
     },
     "metadata": {
      "needs_background": "light"
     },
     "output_type": "display_data"
    }
   ],
   "source": [
    "df_hmov_act.plot(x='cast', y='vote_count', kind='bar', title = 'Movie actors with highest vote counts', xlabel='Actors', ylabel='Vote counts',figsize=(8,6))"
   ]
  },
  {
   "cell_type": "markdown",
   "id": "e3fa40f3",
   "metadata": {},
   "source": [
    "The movie actors with the highest vote counts are **Leonardo DiCaprio, Joseph Gordon-Levitt, Ellen Page, Tom Hardy, Ken Wantanabae.**"
   ]
  },
  {
   "cell_type": "markdown",
   "id": "4a7c168d",
   "metadata": {},
   "source": [
    "**10. How is revenue trending over the period of time?**"
   ]
  },
  {
   "cell_type": "code",
   "execution_count": 25,
   "id": "e09f10f5",
   "metadata": {},
   "outputs": [
    {
     "data": {
      "text/plain": [
       "<AxesSubplot:title={'center':'Revenue Trend Overtime'}, xlabel='Year', ylabel='Revenue'>"
      ]
     },
     "execution_count": 25,
     "metadata": {},
     "output_type": "execute_result"
    },
    {
     "data": {
      "image/png": "[encoded data removed]",
      "text/plain": [
       "<Figure size 576x432 with 1 Axes>"
      ]
     },
     "metadata": {
      "needs_background": "light"
     },
     "output_type": "display_data"
    }
   ],
   "source": [
    "# revenue trending over the period of time.\n",
    "df['release_date'] = pd.to_datetime(df['release_date'])\n",
    "df.plot('release_date', 'revenue_adj', xlabel='Year', ylabel='Revenue', title= 'Revenue Trend Overtime', figsize=(8,6))"
   ]
  },
  {
   "cell_type": "markdown",
   "id": "36791a3b",
   "metadata": {},
   "source": [
    "Revenue does not seem to follow a particular trend."
   ]
  },
  {
   "cell_type": "markdown",
   "id": "73825e60",
   "metadata": {},
   "source": [
    "**11. How runtime trends overtime?**"
   ]
  },
  {
   "cell_type": "code",
   "execution_count": 26,
   "id": "e6ba90f2",
   "metadata": {},
   "outputs": [
    {
     "data": {
      "text/plain": [
       "<AxesSubplot:title={'center':'Runtime Trend Overtime'}, xlabel='Date', ylabel='Runtime'>"
      ]
     },
     "execution_count": 26,
     "metadata": {},
     "output_type": "execute_result"
    },
    {
     "data": {
      "image/png": "[encoded data removed]",
      "text/plain": [
       "<Figure size 576x432 with 1 Axes>"
      ]
     },
     "metadata": {
      "needs_background": "light"
     },
     "output_type": "display_data"
    }
   ],
   "source": [
    "# runtime trending over the period of time.\n",
    "df.plot('release_date', 'runtime', xlabel='Date', ylabel='Runtime', title= 'Runtime Trend Overtime', figsize=(8,6))"
   ]
  },
  {
   "cell_type": "markdown",
   "id": "c9b83fce",
   "metadata": {},
   "source": [
    "It can be seen that runtime increased over the years."
   ]
  },
  {
   "cell_type": "markdown",
   "id": "79a5c8e6",
   "metadata": {},
   "source": [
    "**12. Do top ratings movies always generate big revenue?**"
   ]
  },
  {
   "cell_type": "code",
   "execution_count": 27,
   "id": "c6cd6d52",
   "metadata": {},
   "outputs": [],
   "source": [
    "#calculation total profit revenue from movie\n",
    "df['total_revenue']  = df['revenue_adj'] - df['budget_adj']"
   ]
  },
  {
   "cell_type": "code",
   "execution_count": 28,
   "id": "1715e44d",
   "metadata": {},
   "outputs": [
    {
     "data": {
      "text/plain": [
       "<AxesSubplot:title={'center':'Effect of Average Rating on Revenue'}, xlabel='vote_average', ylabel='total_revenue'>"
      ]
     },
     "execution_count": 28,
     "metadata": {},
     "output_type": "execute_result"
    },
    {
     "data": {
      "image/png": "[encoded data removed]",
      "text/plain": [
       "<Figure size 576x432 with 1 Axes>"
      ]
     },
     "metadata": {
      "needs_background": "light"
     },
     "output_type": "display_data"
    }
   ],
   "source": [
    "# Effect of average rating on revenue\n",
    "df.plot(kind='scatter', x='vote_average', y='total_revenue', title= 'Effect of Average Rating on Revenue', figsize=(8,6))"
   ]
  },
  {
   "cell_type": "markdown",
   "id": "f91e9bbe",
   "metadata": {},
   "source": [
    "As seen from the plot, there is a relationship between movie rating and revenue. Top rated movies generate high revenue."
   ]
  },
  {
   "cell_type": "markdown",
   "id": "2a9df7a0",
   "metadata": {},
   "source": [
    "**13. Do higher budget movies always generate big revenue?**"
   ]
  },
  {
   "cell_type": "code",
   "execution_count": 29,
   "id": "11705e3b",
   "metadata": {},
   "outputs": [
    {
     "data": {
      "text/html": [
       "<div>\n",
       "<style scoped>\n",
       "    .dataframe tbody tr th:only-of-type {\n",
       "        vertical-align: middle;\n",
       "    }\n",
       "\n",
       "    .dataframe tbody tr th {\n",
       "        vertical-align: top;\n",
       "    }\n",
       "\n",
       "    .dataframe thead th {\n",
       "        text-align: right;\n",
       "    }\n",
       "</style>\n",
       "<table border=\"1\" class=\"dataframe\">\n",
       "  <thead>\n",
       "    <tr style=\"text-align: right;\">\n",
       "      <th></th>\n",
       "      <th>original_title</th>\n",
       "      <th>release_year</th>\n",
       "      <th>budget_adj</th>\n",
       "      <th>total_revenue</th>\n",
       "    </tr>\n",
       "  </thead>\n",
       "  <tbody>\n",
       "    <tr>\n",
       "      <th>2244</th>\n",
       "      <td>The Warrior's Way</td>\n",
       "      <td>2010</td>\n",
       "      <td>4.250000e+08</td>\n",
       "      <td>-4.139124e+08</td>\n",
       "    </tr>\n",
       "    <tr>\n",
       "      <th>3375</th>\n",
       "      <td>Pirates of the Caribbean: On Stranger Tides</td>\n",
       "      <td>2011</td>\n",
       "      <td>3.683713e+08</td>\n",
       "      <td>6.220462e+08</td>\n",
       "    </tr>\n",
       "    <tr>\n",
       "      <th>7387</th>\n",
       "      <td>Pirates of the Caribbean: At World's End</td>\n",
       "      <td>2007</td>\n",
       "      <td>3.155006e+08</td>\n",
       "      <td>6.951529e+08</td>\n",
       "    </tr>\n",
       "    <tr>\n",
       "      <th>6570</th>\n",
       "      <td>Superman Returns</td>\n",
       "      <td>2006</td>\n",
       "      <td>2.920507e+08</td>\n",
       "      <td>1.309698e+08</td>\n",
       "    </tr>\n",
       "    <tr>\n",
       "      <th>5231</th>\n",
       "      <td>Titanic</td>\n",
       "      <td>1997</td>\n",
       "      <td>2.716921e+08</td>\n",
       "      <td>2.234714e+09</td>\n",
       "    </tr>\n",
       "    <tr>\n",
       "      <th>...</th>\n",
       "      <td>...</td>\n",
       "      <td>...</td>\n",
       "      <td>...</td>\n",
       "      <td>...</td>\n",
       "    </tr>\n",
       "    <tr>\n",
       "      <th>1184</th>\n",
       "      <td>Dans la cour</td>\n",
       "      <td>2014</td>\n",
       "      <td>0.000000e+00</td>\n",
       "      <td>0.000000e+00</td>\n",
       "    </tr>\n",
       "    <tr>\n",
       "      <th>1185</th>\n",
       "      <td>Crawl or Die</td>\n",
       "      <td>2014</td>\n",
       "      <td>0.000000e+00</td>\n",
       "      <td>0.000000e+00</td>\n",
       "    </tr>\n",
       "    <tr>\n",
       "      <th>7003</th>\n",
       "      <td>Scooby-Doo 2: Monsters Unleashed</td>\n",
       "      <td>2004</td>\n",
       "      <td>0.000000e+00</td>\n",
       "      <td>2.094936e+08</td>\n",
       "    </tr>\n",
       "    <tr>\n",
       "      <th>1186</th>\n",
       "      <td>Red Army</td>\n",
       "      <td>2014</td>\n",
       "      <td>0.000000e+00</td>\n",
       "      <td>0.000000e+00</td>\n",
       "    </tr>\n",
       "    <tr>\n",
       "      <th>6765</th>\n",
       "      <td>Hollywoodland</td>\n",
       "      <td>2006</td>\n",
       "      <td>0.000000e+00</td>\n",
       "      <td>1.817610e+07</td>\n",
       "    </tr>\n",
       "  </tbody>\n",
       "</table>\n",
       "<p>10865 rows × 4 columns</p>\n",
       "</div>"
      ],
      "text/plain": [
       "                                   original_title  release_year    budget_adj  \\\n",
       "2244                            The Warrior's Way          2010  4.250000e+08   \n",
       "3375  Pirates of the Caribbean: On Stranger Tides          2011  3.683713e+08   \n",
       "7387     Pirates of the Caribbean: At World's End          2007  3.155006e+08   \n",
       "6570                             Superman Returns          2006  2.920507e+08   \n",
       "5231                                      Titanic          1997  2.716921e+08   \n",
       "...                                           ...           ...           ...   \n",
       "1184                                 Dans la cour          2014  0.000000e+00   \n",
       "1185                                 Crawl or Die          2014  0.000000e+00   \n",
       "7003             Scooby-Doo 2: Monsters Unleashed          2004  0.000000e+00   \n",
       "1186                                     Red Army          2014  0.000000e+00   \n",
       "6765                                Hollywoodland          2006  0.000000e+00   \n",
       "\n",
       "      total_revenue  \n",
       "2244  -4.139124e+08  \n",
       "3375   6.220462e+08  \n",
       "7387   6.951529e+08  \n",
       "6570   1.309698e+08  \n",
       "5231   2.234714e+09  \n",
       "...             ...  \n",
       "1184   0.000000e+00  \n",
       "1185   0.000000e+00  \n",
       "7003   2.094936e+08  \n",
       "1186   0.000000e+00  \n",
       "6765   1.817610e+07  \n",
       "\n",
       "[10865 rows x 4 columns]"
      ]
     },
     "execution_count": 29,
     "metadata": {},
     "output_type": "execute_result"
    }
   ],
   "source": [
    "df[['original_title','release_year','budget_adj', 'total_revenue']].sort_values(['budget_adj'],ascending=False)"
   ]
  },
  {
   "cell_type": "code",
   "execution_count": 30,
   "id": "24fb1abd",
   "metadata": {},
   "outputs": [
    {
     "data": {
      "text/plain": [
       "<AxesSubplot:title={'center':'Effect of Budget on Revenue'}, xlabel='budget_adj', ylabel='total_revenue'>"
      ]
     },
     "execution_count": 30,
     "metadata": {},
     "output_type": "execute_result"
    },
    {
     "data": {
      "image/png": "[encoded data removed]",
      "text/plain": [
       "<Figure size 576x432 with 1 Axes>"
      ]
     },
     "metadata": {
      "needs_background": "light"
     },
     "output_type": "display_data"
    }
   ],
   "source": [
    "# Effect of Budget on Revenue\n",
    "df.plot(kind='scatter', x='budget_adj', y='total_revenue', title= 'Effect of Budget on Revenue', figsize=(8,6))"
   ]
  },
  {
   "cell_type": "markdown",
   "id": "b82ac6d2",
   "metadata": {},
   "source": [
    "High budget movies generate high revenue."
   ]
  },
  {
   "cell_type": "markdown",
   "id": "7233659f",
   "metadata": {},
   "source": [
    " **14. What movies generates big revenues?**"
   ]
  },
  {
   "cell_type": "code",
   "execution_count": 31,
   "id": "8dfe1cd9",
   "metadata": {},
   "outputs": [
    {
     "data": {
      "text/html": [
       "<div>\n",
       "<style scoped>\n",
       "    .dataframe tbody tr th:only-of-type {\n",
       "        vertical-align: middle;\n",
       "    }\n",
       "\n",
       "    .dataframe tbody tr th {\n",
       "        vertical-align: top;\n",
       "    }\n",
       "\n",
       "    .dataframe thead th {\n",
       "        text-align: right;\n",
       "    }\n",
       "</style>\n",
       "<table border=\"1\" class=\"dataframe\">\n",
       "  <thead>\n",
       "    <tr style=\"text-align: right;\">\n",
       "      <th></th>\n",
       "      <th>genres</th>\n",
       "      <th>original_title</th>\n",
       "      <th>release_year</th>\n",
       "      <th>vote_average</th>\n",
       "      <th>production_companies</th>\n",
       "      <th>director</th>\n",
       "      <th>budget_adj</th>\n",
       "      <th>total_revenue</th>\n",
       "      <th>revenue_adj</th>\n",
       "    </tr>\n",
       "  </thead>\n",
       "  <tbody>\n",
       "    <tr>\n",
       "      <th>1329</th>\n",
       "      <td>Adventure|Action|Science Fiction</td>\n",
       "      <td>Star Wars</td>\n",
       "      <td>1977</td>\n",
       "      <td>7.9</td>\n",
       "      <td>Lucasfilm|Twentieth Century Fox Film Corporation</td>\n",
       "      <td>George Lucas</td>\n",
       "      <td>3.957559e+07</td>\n",
       "      <td>2.750137e+09</td>\n",
       "      <td>2.789712e+09</td>\n",
       "    </tr>\n",
       "    <tr>\n",
       "      <th>1386</th>\n",
       "      <td>Action|Adventure|Fantasy|Science Fiction</td>\n",
       "      <td>Avatar</td>\n",
       "      <td>2009</td>\n",
       "      <td>7.1</td>\n",
       "      <td>Ingenious Film Partners|Twentieth Century Fox ...</td>\n",
       "      <td>James Cameron</td>\n",
       "      <td>2.408869e+08</td>\n",
       "      <td>2.586237e+09</td>\n",
       "      <td>2.827124e+09</td>\n",
       "    </tr>\n",
       "    <tr>\n",
       "      <th>5231</th>\n",
       "      <td>Drama|Romance|Thriller</td>\n",
       "      <td>Titanic</td>\n",
       "      <td>1997</td>\n",
       "      <td>7.3</td>\n",
       "      <td>Paramount Pictures|Twentieth Century Fox Film ...</td>\n",
       "      <td>James Cameron</td>\n",
       "      <td>2.716921e+08</td>\n",
       "      <td>2.234714e+09</td>\n",
       "      <td>2.506406e+09</td>\n",
       "    </tr>\n",
       "    <tr>\n",
       "      <th>10594</th>\n",
       "      <td>Drama|Horror|Thriller</td>\n",
       "      <td>The Exorcist</td>\n",
       "      <td>1973</td>\n",
       "      <td>7.2</td>\n",
       "      <td>Warner Bros.|Hoya Productions</td>\n",
       "      <td>William Friedkin</td>\n",
       "      <td>3.928928e+07</td>\n",
       "      <td>2.128036e+09</td>\n",
       "      <td>2.167325e+09</td>\n",
       "    </tr>\n",
       "    <tr>\n",
       "      <th>9806</th>\n",
       "      <td>Horror|Thriller|Adventure</td>\n",
       "      <td>Jaws</td>\n",
       "      <td>1975</td>\n",
       "      <td>7.3</td>\n",
       "      <td>Universal Pictures|Zanuck/Brown Productions</td>\n",
       "      <td>Steven Spielberg</td>\n",
       "      <td>2.836275e+07</td>\n",
       "      <td>1.878643e+09</td>\n",
       "      <td>1.907006e+09</td>\n",
       "    </tr>\n",
       "    <tr>\n",
       "      <th>8889</th>\n",
       "      <td>Science Fiction|Adventure|Family|Fantasy</td>\n",
       "      <td>E.T. the Extra-Terrestrial</td>\n",
       "      <td>1982</td>\n",
       "      <td>7.2</td>\n",
       "      <td>Universal Pictures|Amblin Entertainment</td>\n",
       "      <td>Steven Spielberg</td>\n",
       "      <td>2.372625e+07</td>\n",
       "      <td>1.767968e+09</td>\n",
       "      <td>1.791694e+09</td>\n",
       "    </tr>\n",
       "    <tr>\n",
       "      <th>3</th>\n",
       "      <td>Action|Adventure|Science Fiction|Fantasy</td>\n",
       "      <td>Star Wars: The Force Awakens</td>\n",
       "      <td>2015</td>\n",
       "      <td>7.5</td>\n",
       "      <td>Lucasfilm|Truenorth Productions|Bad Robot</td>\n",
       "      <td>J.J. Abrams</td>\n",
       "      <td>1.839999e+08</td>\n",
       "      <td>1.718723e+09</td>\n",
       "      <td>1.902723e+09</td>\n",
       "    </tr>\n",
       "    <tr>\n",
       "      <th>8094</th>\n",
       "      <td>Crime|Drama|Mystery|Thriller|Action</td>\n",
       "      <td>The Net</td>\n",
       "      <td>1995</td>\n",
       "      <td>5.6</td>\n",
       "      <td>Columbia Pictures</td>\n",
       "      <td>Irwin Winkler</td>\n",
       "      <td>3.148127e+07</td>\n",
       "      <td>1.551568e+09</td>\n",
       "      <td>1.583050e+09</td>\n",
       "    </tr>\n",
       "    <tr>\n",
       "      <th>10110</th>\n",
       "      <td>Adventure|Animation|Comedy|Family</td>\n",
       "      <td>One Hundred and One Dalmatians</td>\n",
       "      <td>1961</td>\n",
       "      <td>6.6</td>\n",
       "      <td>Walt Disney Productions</td>\n",
       "      <td>Clyde Geronimi|Hamilton Luske|Wolfgang Reitherman</td>\n",
       "      <td>2.917944e+07</td>\n",
       "      <td>1.545635e+09</td>\n",
       "      <td>1.574815e+09</td>\n",
       "    </tr>\n",
       "    <tr>\n",
       "      <th>7309</th>\n",
       "      <td>Adventure|Action|Science Fiction</td>\n",
       "      <td>The Empire Strikes Back</td>\n",
       "      <td>1980</td>\n",
       "      <td>8.0</td>\n",
       "      <td>Lucasfilm|Twentieth Century Fox Film Corporation</td>\n",
       "      <td>Irvin Kershner</td>\n",
       "      <td>4.762866e+07</td>\n",
       "      <td>1.376998e+09</td>\n",
       "      <td>1.424626e+09</td>\n",
       "    </tr>\n",
       "    <tr>\n",
       "      <th>10398</th>\n",
       "      <td>Family|Animation|Adventure</td>\n",
       "      <td>The Jungle Book</td>\n",
       "      <td>1967</td>\n",
       "      <td>7.0</td>\n",
       "      <td>Walt Disney Pictures</td>\n",
       "      <td>Wolfgang Reitherman</td>\n",
       "      <td>2.614705e+07</td>\n",
       "      <td>1.319404e+09</td>\n",
       "      <td>1.345551e+09</td>\n",
       "    </tr>\n",
       "    <tr>\n",
       "      <th>10223</th>\n",
       "      <td>Adventure|Science Fiction</td>\n",
       "      <td>Jurassic Park</td>\n",
       "      <td>1993</td>\n",
       "      <td>7.4</td>\n",
       "      <td>Universal Pictures|Amblin Entertainment</td>\n",
       "      <td>Steven Spielberg</td>\n",
       "      <td>9.509661e+07</td>\n",
       "      <td>1.293767e+09</td>\n",
       "      <td>1.388863e+09</td>\n",
       "    </tr>\n",
       "    <tr>\n",
       "      <th>0</th>\n",
       "      <td>Action|Adventure|Science Fiction|Thriller</td>\n",
       "      <td>Jurassic World</td>\n",
       "      <td>2015</td>\n",
       "      <td>6.5</td>\n",
       "      <td>Universal Studios|Amblin Entertainment|Legenda...</td>\n",
       "      <td>Colin Trevorrow</td>\n",
       "      <td>1.379999e+08</td>\n",
       "      <td>1.254446e+09</td>\n",
       "      <td>1.392446e+09</td>\n",
       "    </tr>\n",
       "    <tr>\n",
       "      <th>7269</th>\n",
       "      <td>Drama|Crime</td>\n",
       "      <td>The Godfather</td>\n",
       "      <td>1972</td>\n",
       "      <td>8.3</td>\n",
       "      <td>Paramount Pictures|Alfran Productions</td>\n",
       "      <td>Francis Ford Coppola</td>\n",
       "      <td>3.128737e+07</td>\n",
       "      <td>1.246626e+09</td>\n",
       "      <td>1.277914e+09</td>\n",
       "    </tr>\n",
       "    <tr>\n",
       "      <th>4361</th>\n",
       "      <td>Science Fiction|Action|Adventure</td>\n",
       "      <td>The Avengers</td>\n",
       "      <td>2012</td>\n",
       "      <td>7.3</td>\n",
       "      <td>Marvel Studios</td>\n",
       "      <td>Joss Whedon</td>\n",
       "      <td>2.089437e+08</td>\n",
       "      <td>1.234248e+09</td>\n",
       "      <td>1.443191e+09</td>\n",
       "    </tr>\n",
       "    <tr>\n",
       "      <th>4949</th>\n",
       "      <td>Adventure|Fantasy|Action</td>\n",
       "      <td>The Lord of the Rings: The Return of the King</td>\n",
       "      <td>2003</td>\n",
       "      <td>7.9</td>\n",
       "      <td>WingNut Films|New Line Cinema</td>\n",
       "      <td>Peter Jackson</td>\n",
       "      <td>1.114231e+08</td>\n",
       "      <td>1.214855e+09</td>\n",
       "      <td>1.326278e+09</td>\n",
       "    </tr>\n",
       "    <tr>\n",
       "      <th>4</th>\n",
       "      <td>Action|Crime|Thriller</td>\n",
       "      <td>Furious 7</td>\n",
       "      <td>2015</td>\n",
       "      <td>7.3</td>\n",
       "      <td>Universal Pictures|Original Film|Media Rights ...</td>\n",
       "      <td>James Wan</td>\n",
       "      <td>1.747999e+08</td>\n",
       "      <td>1.210949e+09</td>\n",
       "      <td>1.385749e+09</td>\n",
       "    </tr>\n",
       "    <tr>\n",
       "      <th>7987</th>\n",
       "      <td>Adventure|Action|Science Fiction</td>\n",
       "      <td>Return of the Jedi</td>\n",
       "      <td>1983</td>\n",
       "      <td>7.8</td>\n",
       "      <td>Lucasfilm|Twentieth Century Fox Film Corporation</td>\n",
       "      <td>Richard Marquand</td>\n",
       "      <td>7.082424e+07</td>\n",
       "      <td>1.182995e+09</td>\n",
       "      <td>1.253819e+09</td>\n",
       "    </tr>\n",
       "    <tr>\n",
       "      <th>3374</th>\n",
       "      <td>Adventure|Family|Fantasy</td>\n",
       "      <td>Harry Potter and the Deathly Hallows: Part 2</td>\n",
       "      <td>2011</td>\n",
       "      <td>7.7</td>\n",
       "      <td>Warner Bros.|Heyday Films|Moving Picture Compa...</td>\n",
       "      <td>David Yates</td>\n",
       "      <td>1.211748e+08</td>\n",
       "      <td>1.166009e+09</td>\n",
       "      <td>1.287184e+09</td>\n",
       "    </tr>\n",
       "    <tr>\n",
       "      <th>4180</th>\n",
       "      <td>Family|Animation|Drama</td>\n",
       "      <td>The Lion King</td>\n",
       "      <td>1994</td>\n",
       "      <td>7.7</td>\n",
       "      <td>Walt Disney Pictures|Walt Disney Feature Anima...</td>\n",
       "      <td>Roger Allers|Rob Minkoff</td>\n",
       "      <td>6.620002e+07</td>\n",
       "      <td>1.093392e+09</td>\n",
       "      <td>1.159592e+09</td>\n",
       "    </tr>\n",
       "  </tbody>\n",
       "</table>\n",
       "</div>"
      ],
      "text/plain": [
       "                                          genres  \\\n",
       "1329            Adventure|Action|Science Fiction   \n",
       "1386    Action|Adventure|Fantasy|Science Fiction   \n",
       "5231                      Drama|Romance|Thriller   \n",
       "10594                      Drama|Horror|Thriller   \n",
       "9806                   Horror|Thriller|Adventure   \n",
       "8889    Science Fiction|Adventure|Family|Fantasy   \n",
       "3       Action|Adventure|Science Fiction|Fantasy   \n",
       "8094         Crime|Drama|Mystery|Thriller|Action   \n",
       "10110          Adventure|Animation|Comedy|Family   \n",
       "7309            Adventure|Action|Science Fiction   \n",
       "10398                 Family|Animation|Adventure   \n",
       "10223                  Adventure|Science Fiction   \n",
       "0      Action|Adventure|Science Fiction|Thriller   \n",
       "7269                                 Drama|Crime   \n",
       "4361            Science Fiction|Action|Adventure   \n",
       "4949                    Adventure|Fantasy|Action   \n",
       "4                          Action|Crime|Thriller   \n",
       "7987            Adventure|Action|Science Fiction   \n",
       "3374                    Adventure|Family|Fantasy   \n",
       "4180                      Family|Animation|Drama   \n",
       "\n",
       "                                      original_title  release_year  \\\n",
       "1329                                       Star Wars          1977   \n",
       "1386                                          Avatar          2009   \n",
       "5231                                         Titanic          1997   \n",
       "10594                                   The Exorcist          1973   \n",
       "9806                                            Jaws          1975   \n",
       "8889                      E.T. the Extra-Terrestrial          1982   \n",
       "3                       Star Wars: The Force Awakens          2015   \n",
       "8094                                         The Net          1995   \n",
       "10110                 One Hundred and One Dalmatians          1961   \n",
       "7309                         The Empire Strikes Back          1980   \n",
       "10398                                The Jungle Book          1967   \n",
       "10223                                  Jurassic Park          1993   \n",
       "0                                     Jurassic World          2015   \n",
       "7269                                   The Godfather          1972   \n",
       "4361                                    The Avengers          2012   \n",
       "4949   The Lord of the Rings: The Return of the King          2003   \n",
       "4                                          Furious 7          2015   \n",
       "7987                              Return of the Jedi          1983   \n",
       "3374    Harry Potter and the Deathly Hallows: Part 2          2011   \n",
       "4180                                   The Lion King          1994   \n",
       "\n",
       "       vote_average                               production_companies  \\\n",
       "1329            7.9   Lucasfilm|Twentieth Century Fox Film Corporation   \n",
       "1386            7.1  Ingenious Film Partners|Twentieth Century Fox ...   \n",
       "5231            7.3  Paramount Pictures|Twentieth Century Fox Film ...   \n",
       "10594           7.2                      Warner Bros.|Hoya Productions   \n",
       "9806            7.3        Universal Pictures|Zanuck/Brown Productions   \n",
       "8889            7.2            Universal Pictures|Amblin Entertainment   \n",
       "3               7.5          Lucasfilm|Truenorth Productions|Bad Robot   \n",
       "8094            5.6                                  Columbia Pictures   \n",
       "10110           6.6                            Walt Disney Productions   \n",
       "7309            8.0   Lucasfilm|Twentieth Century Fox Film Corporation   \n",
       "10398           7.0                               Walt Disney Pictures   \n",
       "10223           7.4            Universal Pictures|Amblin Entertainment   \n",
       "0               6.5  Universal Studios|Amblin Entertainment|Legenda...   \n",
       "7269            8.3              Paramount Pictures|Alfran Productions   \n",
       "4361            7.3                                     Marvel Studios   \n",
       "4949            7.9                      WingNut Films|New Line Cinema   \n",
       "4               7.3  Universal Pictures|Original Film|Media Rights ...   \n",
       "7987            7.8   Lucasfilm|Twentieth Century Fox Film Corporation   \n",
       "3374            7.7  Warner Bros.|Heyday Films|Moving Picture Compa...   \n",
       "4180            7.7  Walt Disney Pictures|Walt Disney Feature Anima...   \n",
       "\n",
       "                                                director    budget_adj  \\\n",
       "1329                                        George Lucas  3.957559e+07   \n",
       "1386                                       James Cameron  2.408869e+08   \n",
       "5231                                       James Cameron  2.716921e+08   \n",
       "10594                                   William Friedkin  3.928928e+07   \n",
       "9806                                    Steven Spielberg  2.836275e+07   \n",
       "8889                                    Steven Spielberg  2.372625e+07   \n",
       "3                                            J.J. Abrams  1.839999e+08   \n",
       "8094                                       Irwin Winkler  3.148127e+07   \n",
       "10110  Clyde Geronimi|Hamilton Luske|Wolfgang Reitherman  2.917944e+07   \n",
       "7309                                      Irvin Kershner  4.762866e+07   \n",
       "10398                                Wolfgang Reitherman  2.614705e+07   \n",
       "10223                                   Steven Spielberg  9.509661e+07   \n",
       "0                                        Colin Trevorrow  1.379999e+08   \n",
       "7269                                Francis Ford Coppola  3.128737e+07   \n",
       "4361                                         Joss Whedon  2.089437e+08   \n",
       "4949                                       Peter Jackson  1.114231e+08   \n",
       "4                                              James Wan  1.747999e+08   \n",
       "7987                                    Richard Marquand  7.082424e+07   \n",
       "3374                                         David Yates  1.211748e+08   \n",
       "4180                            Roger Allers|Rob Minkoff  6.620002e+07   \n",
       "\n",
       "       total_revenue   revenue_adj  \n",
       "1329    2.750137e+09  2.789712e+09  \n",
       "1386    2.586237e+09  2.827124e+09  \n",
       "5231    2.234714e+09  2.506406e+09  \n",
       "10594   2.128036e+09  2.167325e+09  \n",
       "9806    1.878643e+09  1.907006e+09  \n",
       "8889    1.767968e+09  1.791694e+09  \n",
       "3       1.718723e+09  1.902723e+09  \n",
       "8094    1.551568e+09  1.583050e+09  \n",
       "10110   1.545635e+09  1.574815e+09  \n",
       "7309    1.376998e+09  1.424626e+09  \n",
       "10398   1.319404e+09  1.345551e+09  \n",
       "10223   1.293767e+09  1.388863e+09  \n",
       "0       1.254446e+09  1.392446e+09  \n",
       "7269    1.246626e+09  1.277914e+09  \n",
       "4361    1.234248e+09  1.443191e+09  \n",
       "4949    1.214855e+09  1.326278e+09  \n",
       "4       1.210949e+09  1.385749e+09  \n",
       "7987    1.182995e+09  1.253819e+09  \n",
       "3374    1.166009e+09  1.287184e+09  \n",
       "4180    1.093392e+09  1.159592e+09  "
      ]
     },
     "execution_count": 31,
     "metadata": {},
     "output_type": "execute_result"
    }
   ],
   "source": [
    "# Top 20 movies of high revenue\n",
    "top_rev=df[['genres','original_title','release_year','vote_average','production_companies','director','budget_adj','total_revenue','revenue_adj']].sort_values(['total_revenue'],ascending=False).head(20)\n",
    "top_rev"
   ]
  },
  {
   "cell_type": "code",
   "execution_count": 32,
   "id": "4c9cacc1",
   "metadata": {},
   "outputs": [
    {
     "data": {
      "text/plain": [
       "<AxesSubplot:title={'center':'Top 20 High Revenue Movies'}, xlabel='original_title'>"
      ]
     },
     "execution_count": 32,
     "metadata": {},
     "output_type": "execute_result"
    },
    {
     "data": {
      "image/png": "[encoded data removed]",
      "text/plain": [
       "<Figure size 720x576 with 1 Axes>"
      ]
     },
     "metadata": {
      "needs_background": "light"
     },
     "output_type": "display_data"
    }
   ],
   "source": [
    "# Bar Chart Top 20 movies of high profit revenue\n",
    "top_rev.plot(x='original_title', y='total_revenue', kind='bar', title = 'Top 20 High Revenue Movies', figsize=(10,8))"
   ]
  },
  {
   "cell_type": "markdown",
   "id": "dbb28541",
   "metadata": {},
   "source": [
    "The movies that generated high revenues were **highly rated** and are of genres: **Action, Adventure, Fantasy, Science Fiction**. They are also highly budgeted. Star Wars was the movie that generated the biggest revenue"
   ]
  },
  {
   "cell_type": "markdown",
   "id": "725a3e82",
   "metadata": {},
   "source": [
    "**15. Can we provide a list of directors that generates big revenue?**"
   ]
  },
  {
   "cell_type": "code",
   "execution_count": 33,
   "id": "2111acf8",
   "metadata": {},
   "outputs": [
    {
     "data": {
      "text/plain": [
       "Steven Spielberg                                     3\n",
       "James Cameron                                        2\n",
       "George Lucas                                         1\n",
       "Francis Ford Coppola                                 1\n",
       "David Yates                                          1\n",
       "Richard Marquand                                     1\n",
       "James Wan                                            1\n",
       "Peter Jackson                                        1\n",
       "Joss Whedon                                          1\n",
       "Wolfgang Reitherman                                  1\n",
       "Colin Trevorrow                                      1\n",
       "Irvin Kershner                                       1\n",
       "Clyde Geronimi|Hamilton Luske|Wolfgang Reitherman    1\n",
       "Irwin Winkler                                        1\n",
       "J.J. Abrams                                          1\n",
       "William Friedkin                                     1\n",
       "Roger Allers|Rob Minkoff                             1\n",
       "Name: director, dtype: int64"
      ]
     },
     "execution_count": 33,
     "metadata": {},
     "output_type": "execute_result"
    }
   ],
   "source": [
    "# value counts of directors from top 20 high profit revenue movies\n",
    "top_rev['director'].value_counts()"
   ]
  },
  {
   "cell_type": "markdown",
   "id": "b83fbb8b",
   "metadata": {},
   "source": [
    "**Steven Spielberg** and **James Cameron** are directors that generates big revenue"
   ]
  },
  {
   "cell_type": "markdown",
   "id": "ccb07d31",
   "metadata": {},
   "source": [
    "**16. Can we provide a list of production company that generates big revenue?**"
   ]
  },
  {
   "cell_type": "code",
   "execution_count": 34,
   "id": "292217f5",
   "metadata": {},
   "outputs": [
    {
     "data": {
      "text/plain": [
       "Lucasfilm|Twentieth Century Fox Film Corporation                                                              3\n",
       "Universal Pictures|Amblin Entertainment                                                                       2\n",
       "Walt Disney Pictures                                                                                          1\n",
       "Warner Bros.|Heyday Films|Moving Picture Company (MPC)                                                        1\n",
       "Universal Pictures|Original Film|Media Rights Capital|Dentsu|One Race Films                                   1\n",
       "WingNut Films|New Line Cinema                                                                                 1\n",
       "Marvel Studios                                                                                                1\n",
       "Paramount Pictures|Alfran Productions                                                                         1\n",
       "Universal Studios|Amblin Entertainment|Legendary Pictures|Fuji Television Network|Dentsu                      1\n",
       "Walt Disney Productions                                                                                       1\n",
       "Ingenious Film Partners|Twentieth Century Fox Film Corporation|Dune Entertainment|Lightstorm Entertainment    1\n",
       "Columbia Pictures                                                                                             1\n",
       "Lucasfilm|Truenorth Productions|Bad Robot                                                                     1\n",
       "Universal Pictures|Zanuck/Brown Productions                                                                   1\n",
       "Warner Bros.|Hoya Productions                                                                                 1\n",
       "Paramount Pictures|Twentieth Century Fox Film Corporation|Lightstorm Entertainment                            1\n",
       "Walt Disney Pictures|Walt Disney Feature Animation                                                            1\n",
       "Name: production_companies, dtype: int64"
      ]
     },
     "execution_count": 34,
     "metadata": {},
     "output_type": "execute_result"
    }
   ],
   "source": [
    "# value counts of production companies of top 20 high income revenue movies\n",
    "top_rev['production_companies'].value_counts()"
   ]
  },
  {
   "cell_type": "markdown",
   "id": "fae69324",
   "metadata": {},
   "source": [
    "Most of the movies that generated high income were produced by **Lucasfilm, Twentieth Century Fox Film Corporation, Universal Pictures, Walt Disney, Paramount pictures, Warner Bros., Columbia pictures** among others."
   ]
  },
  {
   "cell_type": "markdown",
   "id": "1e89040b",
   "metadata": {},
   "source": [
    "# Conclusion"
   ]
  },
  {
   "cell_type": "markdown",
   "id": "e7acfa38",
   "metadata": {},
   "source": [
    "The following were deduced from the dataset;\n",
    "\n",
    "The most frequent genres were Comedy and Drama with a count of 712.\\\n",
    "The popular genres all the time are Action|Adventure|Science Fiction|Thriller movies. Jurassic world was the most popular with a score of 32.985763.\\\n",
    "The two most rated movies in the nineties were; Queen _Rock Montreal released in 1981 and A Personal Journey with Martin Scorsese released in 1995 both with average rating of 8.5.\\\n",
    "The most rated movie of the millennium is The Story of Film: An Odyssey released in 2011 with an average rating of 9.2\\\n",
    "The Warrior's way was the movie with the highest budget\\\n",
    "The Story of Film: An Odyssey released in 2011 had the highest runtime.\\\n",
    "The movie actors with the highest vote counts are Leonardo DiCaprio, Joseph Gordon-Levitt, Ellen Page, Tom Hardy, Ken Wantanabae.\\\n",
    "Revenue does not seem to follow a particular trend.\\\n",
    "It can be seen that runtime increased over the years.\\\n",
    "There is a correlation between movie rating and revenue. Top rated movies generate high revenue.\\\n",
    "High budget movies generate high revenue.\\\n",
    "Star Wars was the movie that generated the biggest revenue.\\\n",
    "Steven Spielberg and James Cameron are directors that generates big revenue.\\\n",
    "Most of the movies that generated high income were produced by Lucasfilm, Twentieth Century Fox Film Corporation, Universal Pictures, Walt Disney, Paramount pictures, Warner Bros., Columbia pictures among others.\n",
    "\n",
    "**Limitation of the dataset**: There are columns with more than 50% missing values e.g. homepage column. The release_date column has some erroneous values."
   ]
  }
 ],
 "metadata": {
  "kernelspec": {
   "display_name": "Python 3 (ipykernel)",
   "language": "python",
   "name": "python3"
  },
  "language_info": {
   "codemirror_mode": {
    "name": "ipython",
    "version": 3
   },
   "file_extension": ".py",
   "mimetype": "text/x-python",
   "name": "python",
   "nbconvert_exporter": "python",
   "pygments_lexer": "ipython3",
   "version": "3.9.7"
  }
 },
 "nbformat": 4,
 "nbformat_minor": 5
}
